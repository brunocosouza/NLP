{
  "nbformat": 4,
  "nbformat_minor": 0,
  "metadata": {
    "colab": {
      "name": "Bidirectional Encoder Representations from Transformers (BERT).ipynb",
      "provenance": [],
      "collapsed_sections": [
        "xNdIljCWTPTJ"
      ],
      "authorship_tag": "ABX9TyNCKN0t8Z/VKR2Nt5Y9Thfc",
      "include_colab_link": true
    },
    "kernelspec": {
      "name": "python3",
      "display_name": "Python 3"
    },
    "accelerator": "GPU"
  },
  "cells": [
    {
      "cell_type": "markdown",
      "metadata": {
        "id": "view-in-github",
        "colab_type": "text"
      },
      "source": [
        "<a href=\"https://colab.research.google.com/github/brunocosouza/NLP/blob/main/Pretraining%20Bidirectional_Encoder_Representations_from_Transformers_(BERT).ipynb\" target=\"_parent\"><img src=\"https://colab.research.google.com/assets/colab-badge.svg\" alt=\"Open In Colab\"/></a>"
      ]
    },
    {
      "cell_type": "markdown",
      "metadata": {
        "id": "xNdIljCWTPTJ"
      },
      "source": [
        "## BERT\r\n",
        "\r\n",
        "BERT (Bidirectional Encoder Representations from Transformers) codifica o contexto de forma bidirecional para explorar de forma particular o sentido semantico de cada palavra de modo à vetorizar seu valor corretamente. Pro exemplo na frase \" ele foi ao banco para sacar dinheiro\" e \" ele foi ao banco para sentar\" a palavra \"banco\" depende de um conhecimento posterior para trazer seu real sentido semantico. \r\n",
        "\r\n",
        "BERT é considerado um task-agnostic model, ou seja, ela requer uma mudança minima de arquitetura para uma grande range de aplicações em tarefas de processamento de linguagem natural.\r\n"
      ]
    },
    {
      "cell_type": "markdown",
      "metadata": {
        "id": "XQ-2x6Y_VQjL"
      },
      "source": [
        "## Input Representation\r\n",
        "\r\n",
        "No processamento de linguagem natural, algumas tarefas (por exemplo, análise de sentimento) aceitam um único texto como entrada, enquanto em algumas outras tarefas (por exemplo, inferência de linguagem natural), a entrada é um par de sequências de texto. A seqüência de entrada de BERT representa, sem ambigüidade, os dois tipos, texto único e pares de texto. No primeiro caso, a sequência de entrada de BERT é a concatenação do token de classificação especial “< cls >”, tokens de uma sequência de texto e o token de separação especial “< sep >” (\"< cls > tokens_text < sep >\"). No último, a sequência de entrada de BERT é a concatenação de “< cls >”, tokens da primeira sequência de texto, “< sep >”, tokens da segunda sequência de texto e “< sep >” (\"< cls > token_text_a < sep > token_text_b < sep >\")."
      ]
    },
    {
      "cell_type": "code",
      "metadata": {
        "colab": {
          "base_uri": "https://localhost:8080/"
        },
        "id": "F5CQWaJoUqLb",
        "outputId": "33c3347e-6444-4f38-c68e-6014d8a8a7fe"
      },
      "source": [
        "!pip install -U d2l"
      ],
      "execution_count": 1,
      "outputs": [
        {
          "output_type": "stream",
          "text": [
            "Collecting d2l\n",
            "\u001b[?25l  Downloading https://files.pythonhosted.org/packages/72/84/35131831bc4c0121d48c7d64a49d2dd6e4891840b7c0c5169bb4eb7ecad2/d2l-0.16.0-py3-none-any.whl (76kB)\n",
            "\r\u001b[K     |████▎                           | 10kB 23.2MB/s eta 0:00:01\r\u001b[K     |████████▋                       | 20kB 19.7MB/s eta 0:00:01\r\u001b[K     |█████████████                   | 30kB 11.5MB/s eta 0:00:01\r\u001b[K     |█████████████████▏              | 40kB 9.5MB/s eta 0:00:01\r\u001b[K     |█████████████████████▌          | 51kB 8.0MB/s eta 0:00:01\r\u001b[K     |█████████████████████████▉      | 61kB 7.8MB/s eta 0:00:01\r\u001b[K     |██████████████████████████████  | 71kB 8.9MB/s eta 0:00:01\r\u001b[K     |████████████████████████████████| 81kB 5.9MB/s \n",
            "\u001b[?25hRequirement already satisfied, skipping upgrade: jupyter in /usr/local/lib/python3.6/dist-packages (from d2l) (1.0.0)\n",
            "Requirement already satisfied, skipping upgrade: matplotlib in /usr/local/lib/python3.6/dist-packages (from d2l) (3.2.2)\n",
            "Requirement already satisfied, skipping upgrade: numpy in /usr/local/lib/python3.6/dist-packages (from d2l) (1.19.5)\n",
            "Requirement already satisfied, skipping upgrade: pandas in /usr/local/lib/python3.6/dist-packages (from d2l) (1.1.5)\n",
            "Requirement already satisfied, skipping upgrade: notebook in /usr/local/lib/python3.6/dist-packages (from jupyter->d2l) (5.3.1)\n",
            "Requirement already satisfied, skipping upgrade: nbconvert in /usr/local/lib/python3.6/dist-packages (from jupyter->d2l) (5.6.1)\n",
            "Requirement already satisfied, skipping upgrade: jupyter-console in /usr/local/lib/python3.6/dist-packages (from jupyter->d2l) (5.2.0)\n",
            "Requirement already satisfied, skipping upgrade: qtconsole in /usr/local/lib/python3.6/dist-packages (from jupyter->d2l) (5.0.1)\n",
            "Requirement already satisfied, skipping upgrade: ipywidgets in /usr/local/lib/python3.6/dist-packages (from jupyter->d2l) (7.6.3)\n",
            "Requirement already satisfied, skipping upgrade: ipykernel in /usr/local/lib/python3.6/dist-packages (from jupyter->d2l) (4.10.1)\n",
            "Requirement already satisfied, skipping upgrade: pyparsing!=2.0.4,!=2.1.2,!=2.1.6,>=2.0.1 in /usr/local/lib/python3.6/dist-packages (from matplotlib->d2l) (2.4.7)\n",
            "Requirement already satisfied, skipping upgrade: python-dateutil>=2.1 in /usr/local/lib/python3.6/dist-packages (from matplotlib->d2l) (2.8.1)\n",
            "Requirement already satisfied, skipping upgrade: kiwisolver>=1.0.1 in /usr/local/lib/python3.6/dist-packages (from matplotlib->d2l) (1.3.1)\n",
            "Requirement already satisfied, skipping upgrade: cycler>=0.10 in /usr/local/lib/python3.6/dist-packages (from matplotlib->d2l) (0.10.0)\n",
            "Requirement already satisfied, skipping upgrade: pytz>=2017.2 in /usr/local/lib/python3.6/dist-packages (from pandas->d2l) (2018.9)\n",
            "Requirement already satisfied, skipping upgrade: jupyter-client>=5.2.0 in /usr/local/lib/python3.6/dist-packages (from notebook->jupyter->d2l) (5.3.5)\n",
            "Requirement already satisfied, skipping upgrade: tornado>=4 in /usr/local/lib/python3.6/dist-packages (from notebook->jupyter->d2l) (5.1.1)\n",
            "Requirement already satisfied, skipping upgrade: jupyter-core>=4.4.0 in /usr/local/lib/python3.6/dist-packages (from notebook->jupyter->d2l) (4.7.0)\n",
            "Requirement already satisfied, skipping upgrade: Send2Trash in /usr/local/lib/python3.6/dist-packages (from notebook->jupyter->d2l) (1.5.0)\n",
            "Requirement already satisfied, skipping upgrade: jinja2 in /usr/local/lib/python3.6/dist-packages (from notebook->jupyter->d2l) (2.11.2)\n",
            "Requirement already satisfied, skipping upgrade: traitlets>=4.2.1 in /usr/local/lib/python3.6/dist-packages (from notebook->jupyter->d2l) (4.3.3)\n",
            "Requirement already satisfied, skipping upgrade: nbformat in /usr/local/lib/python3.6/dist-packages (from notebook->jupyter->d2l) (5.0.8)\n",
            "Requirement already satisfied, skipping upgrade: terminado>=0.8.1 in /usr/local/lib/python3.6/dist-packages (from notebook->jupyter->d2l) (0.9.2)\n",
            "Requirement already satisfied, skipping upgrade: ipython-genutils in /usr/local/lib/python3.6/dist-packages (from notebook->jupyter->d2l) (0.2.0)\n",
            "Requirement already satisfied, skipping upgrade: testpath in /usr/local/lib/python3.6/dist-packages (from nbconvert->jupyter->d2l) (0.4.4)\n",
            "Requirement already satisfied, skipping upgrade: bleach in /usr/local/lib/python3.6/dist-packages (from nbconvert->jupyter->d2l) (3.2.1)\n",
            "Requirement already satisfied, skipping upgrade: pandocfilters>=1.4.1 in /usr/local/lib/python3.6/dist-packages (from nbconvert->jupyter->d2l) (1.4.3)\n",
            "Requirement already satisfied, skipping upgrade: mistune<2,>=0.8.1 in /usr/local/lib/python3.6/dist-packages (from nbconvert->jupyter->d2l) (0.8.4)\n",
            "Requirement already satisfied, skipping upgrade: entrypoints>=0.2.2 in /usr/local/lib/python3.6/dist-packages (from nbconvert->jupyter->d2l) (0.3)\n",
            "Requirement already satisfied, skipping upgrade: pygments in /usr/local/lib/python3.6/dist-packages (from nbconvert->jupyter->d2l) (2.6.1)\n",
            "Requirement already satisfied, skipping upgrade: defusedxml in /usr/local/lib/python3.6/dist-packages (from nbconvert->jupyter->d2l) (0.6.0)\n",
            "Requirement already satisfied, skipping upgrade: prompt-toolkit<2.0.0,>=1.0.0 in /usr/local/lib/python3.6/dist-packages (from jupyter-console->jupyter->d2l) (1.0.18)\n",
            "Requirement already satisfied, skipping upgrade: ipython in /usr/local/lib/python3.6/dist-packages (from jupyter-console->jupyter->d2l) (5.5.0)\n",
            "Requirement already satisfied, skipping upgrade: pyzmq>=17.1 in /usr/local/lib/python3.6/dist-packages (from qtconsole->jupyter->d2l) (20.0.0)\n",
            "Requirement already satisfied, skipping upgrade: qtpy in /usr/local/lib/python3.6/dist-packages (from qtconsole->jupyter->d2l) (1.9.0)\n",
            "Requirement already satisfied, skipping upgrade: widgetsnbextension~=3.5.0 in /usr/local/lib/python3.6/dist-packages (from ipywidgets->jupyter->d2l) (3.5.1)\n",
            "Requirement already satisfied, skipping upgrade: jupyterlab-widgets>=1.0.0; python_version >= \"3.6\" in /usr/local/lib/python3.6/dist-packages (from ipywidgets->jupyter->d2l) (1.0.0)\n",
            "Requirement already satisfied, skipping upgrade: six>=1.5 in /usr/local/lib/python3.6/dist-packages (from python-dateutil>=2.1->matplotlib->d2l) (1.15.0)\n",
            "Requirement already satisfied, skipping upgrade: MarkupSafe>=0.23 in /usr/local/lib/python3.6/dist-packages (from jinja2->notebook->jupyter->d2l) (1.1.1)\n",
            "Requirement already satisfied, skipping upgrade: decorator in /usr/local/lib/python3.6/dist-packages (from traitlets>=4.2.1->notebook->jupyter->d2l) (4.4.2)\n",
            "Requirement already satisfied, skipping upgrade: jsonschema!=2.5.0,>=2.4 in /usr/local/lib/python3.6/dist-packages (from nbformat->notebook->jupyter->d2l) (2.6.0)\n",
            "Requirement already satisfied, skipping upgrade: ptyprocess; os_name != \"nt\" in /usr/local/lib/python3.6/dist-packages (from terminado>=0.8.1->notebook->jupyter->d2l) (0.7.0)\n",
            "Requirement already satisfied, skipping upgrade: webencodings in /usr/local/lib/python3.6/dist-packages (from bleach->nbconvert->jupyter->d2l) (0.5.1)\n",
            "Requirement already satisfied, skipping upgrade: packaging in /usr/local/lib/python3.6/dist-packages (from bleach->nbconvert->jupyter->d2l) (20.8)\n",
            "Requirement already satisfied, skipping upgrade: wcwidth in /usr/local/lib/python3.6/dist-packages (from prompt-toolkit<2.0.0,>=1.0.0->jupyter-console->jupyter->d2l) (0.2.5)\n",
            "Requirement already satisfied, skipping upgrade: pickleshare in /usr/local/lib/python3.6/dist-packages (from ipython->jupyter-console->jupyter->d2l) (0.7.5)\n",
            "Requirement already satisfied, skipping upgrade: setuptools>=18.5 in /usr/local/lib/python3.6/dist-packages (from ipython->jupyter-console->jupyter->d2l) (51.1.1)\n",
            "Requirement already satisfied, skipping upgrade: simplegeneric>0.8 in /usr/local/lib/python3.6/dist-packages (from ipython->jupyter-console->jupyter->d2l) (0.8.1)\n",
            "Requirement already satisfied, skipping upgrade: pexpect; sys_platform != \"win32\" in /usr/local/lib/python3.6/dist-packages (from ipython->jupyter-console->jupyter->d2l) (4.8.0)\n",
            "Installing collected packages: d2l\n",
            "Successfully installed d2l-0.16.0\n"
          ],
          "name": "stdout"
        }
      ]
    },
    {
      "cell_type": "code",
      "metadata": {
        "id": "MecpTqnVTZUB"
      },
      "source": [
        "from d2l import torch as d2l\r\n",
        "import torch\r\n",
        "from torch import nn"
      ],
      "execution_count": 2,
      "outputs": []
    },
    {
      "cell_type": "code",
      "metadata": {
        "id": "P3AdKbwPUw2T"
      },
      "source": [
        "def get_tokens_and_segments(tokens_a, tokens_b = None):\r\n",
        "  tokens = ['<cls>'] + tokens_a + ['<sep>']\r\n",
        "  segments = [0] * (len(tokens_a) + 2)\r\n",
        "  if tokens_b is not None:\r\n",
        "    tokens += tokens_b + ['<sep>']\r\n",
        "    segments += [1] * (len(tokens_b) + 1)\r\n",
        "  return tokens, segments"
      ],
      "execution_count": 3,
      "outputs": []
    },
    {
      "cell_type": "markdown",
      "metadata": {
        "id": "ZBsZPP59YROk"
      },
      "source": [
        "BERT escolheu o Transformer encoder como sua arquitetura bidirectional. Como no Transformer encoder,  embedding posicional (para identificar a posição da palavra na sentença) sao adicionados à cada posição da sentença de entrada no modelo BERT"
      ]
    },
    {
      "cell_type": "code",
      "metadata": {
        "id": "ovXtJ_2GXyRb"
      },
      "source": [
        "class BERTEncoder(nn.Module):\r\n",
        "  def __init__(self, vocab_size, num_hiddens, norm_shape, ffn_num_input,\r\n",
        "               ffn_num_hiddens, num_heads, num_layers, dropout,\r\n",
        "               max_len = 1000, key_size = 768, query_size = 768, value_size = 768,\r\n",
        "               **kwargs):\r\n",
        "    super(BERTEncoder, self).__init__(**kwargs)\r\n",
        "    self.token_embedding = nn.Embedding(vocab_size, num_hiddens)\r\n",
        "    self.segment_embedding = nn.Embedding(2, num_hiddens)\r\n",
        "    self.blks = nn.Sequential()\r\n",
        "    for i in range(num_layers): #verificar Transformer Encoder\r\n",
        "      self.blks.add_module(f\"{i}\", d2l.EncoderBlock(\r\n",
        "          key_size, query_size, value_size, num_hiddens, norm_shape,\r\n",
        "          ffn_num_input, ffn_num_hiddens, num_heads, dropout, True))\r\n",
        "    self.pos_embedding = nn.Parameter(torch.randn(1, max_len, num_hiddens))\r\n",
        "\r\n",
        "  def forward(self, tokens, segments, valid_lens):\r\n",
        "    X = self.token_embedding(tokens) + self.segment_embedding(segments)\r\n",
        "    X = X + self.pos_embedding.data[:, : X.shape[1], :]\r\n",
        "    for blk in self.blks:\r\n",
        "      X = blk(X, valid_lens)\r\n",
        "    return X"
      ],
      "execution_count": 4,
      "outputs": []
    },
    {
      "cell_type": "code",
      "metadata": {
        "id": "Cqe-784vemHL"
      },
      "source": [
        "vocab_size, num_hiddens, ffn_num_hiddens, num_heads = 10000, 768, 1024, 4\r\n",
        "norm_shape, ffn_num_input, num_layers, dropout = [768], 768, 2, 0.2\r\n",
        "encoder = BERTEncoder(vocab_size, num_hiddens, norm_shape, ffn_num_input,\r\n",
        "                      ffn_num_hiddens, num_heads, num_layers, dropout)"
      ],
      "execution_count": 5,
      "outputs": []
    },
    {
      "cell_type": "code",
      "metadata": {
        "colab": {
          "base_uri": "https://localhost:8080/"
        },
        "id": "qHZdk15dfGgc",
        "outputId": "e35577da-025c-4b3f-d579-1238edc613ea"
      },
      "source": [
        "encoder.blks"
      ],
      "execution_count": 6,
      "outputs": [
        {
          "output_type": "execute_result",
          "data": {
            "text/plain": [
              "Sequential(\n",
              "  (0): EncoderBlock(\n",
              "    (attention): MultiHeadAttention(\n",
              "      (attention): DotProductAttention(\n",
              "        (dropout): Dropout(p=0.2, inplace=False)\n",
              "      )\n",
              "      (W_q): Linear(in_features=768, out_features=768, bias=True)\n",
              "      (W_k): Linear(in_features=768, out_features=768, bias=True)\n",
              "      (W_v): Linear(in_features=768, out_features=768, bias=True)\n",
              "      (W_o): Linear(in_features=768, out_features=768, bias=True)\n",
              "    )\n",
              "    (addnorm1): AddNorm(\n",
              "      (dropout): Dropout(p=0.2, inplace=False)\n",
              "      (ln): LayerNorm((768,), eps=1e-05, elementwise_affine=True)\n",
              "    )\n",
              "    (ffn): PositionWiseFFN(\n",
              "      (dense1): Linear(in_features=768, out_features=1024, bias=True)\n",
              "      (relu): ReLU()\n",
              "      (dense2): Linear(in_features=1024, out_features=768, bias=True)\n",
              "    )\n",
              "    (addnorm2): AddNorm(\n",
              "      (dropout): Dropout(p=0.2, inplace=False)\n",
              "      (ln): LayerNorm((768,), eps=1e-05, elementwise_affine=True)\n",
              "    )\n",
              "  )\n",
              "  (1): EncoderBlock(\n",
              "    (attention): MultiHeadAttention(\n",
              "      (attention): DotProductAttention(\n",
              "        (dropout): Dropout(p=0.2, inplace=False)\n",
              "      )\n",
              "      (W_q): Linear(in_features=768, out_features=768, bias=True)\n",
              "      (W_k): Linear(in_features=768, out_features=768, bias=True)\n",
              "      (W_v): Linear(in_features=768, out_features=768, bias=True)\n",
              "      (W_o): Linear(in_features=768, out_features=768, bias=True)\n",
              "    )\n",
              "    (addnorm1): AddNorm(\n",
              "      (dropout): Dropout(p=0.2, inplace=False)\n",
              "      (ln): LayerNorm((768,), eps=1e-05, elementwise_affine=True)\n",
              "    )\n",
              "    (ffn): PositionWiseFFN(\n",
              "      (dense1): Linear(in_features=768, out_features=1024, bias=True)\n",
              "      (relu): ReLU()\n",
              "      (dense2): Linear(in_features=1024, out_features=768, bias=True)\n",
              "    )\n",
              "    (addnorm2): AddNorm(\n",
              "      (dropout): Dropout(p=0.2, inplace=False)\n",
              "      (ln): LayerNorm((768,), eps=1e-05, elementwise_affine=True)\n",
              "    )\n",
              "  )\n",
              ")"
            ]
          },
          "metadata": {
            "tags": []
          },
          "execution_count": 6
        }
      ]
    },
    {
      "cell_type": "code",
      "metadata": {
        "colab": {
          "base_uri": "https://localhost:8080/"
        },
        "id": "ZixyHnKTfa2j",
        "outputId": "be570f67-ed52-4b70-eedf-1ed62f89200a"
      },
      "source": [
        "encoder.token_embedding, encoder.segment_embedding"
      ],
      "execution_count": 7,
      "outputs": [
        {
          "output_type": "execute_result",
          "data": {
            "text/plain": [
              "(Embedding(10000, 768), Embedding(2, 768))"
            ]
          },
          "metadata": {
            "tags": []
          },
          "execution_count": 7
        }
      ]
    },
    {
      "cell_type": "markdown",
      "metadata": {
        "id": "Kpgm1zumgHzt"
      },
      "source": [
        "We define tokens to be 2 BERT input sequences of length 8, where each token is an index of the vocabulary. The forward inference of BERTEncoder with the input tokens returns the encoded result where each token is represented by a vector whose length is predefined by the hyperparameter num_hiddens. This hyperparameter is usually referred to as the hidden size (number of hidden units) of the Transformer encoder."
      ]
    },
    {
      "cell_type": "code",
      "metadata": {
        "id": "GVDCduTVgGXy",
        "colab": {
          "base_uri": "https://localhost:8080/"
        },
        "outputId": "90915188-e8cc-4ce2-fbfe-f202311f58b8"
      },
      "source": [
        "tokens = torch.randint(0, vocab_size, (2, 8))\r\n",
        "segments = torch.tensor([[0, 0, 0, 0, 1, 1, 1, 1], [0, 0, 0, 1, 1, 1, 1, 1]])\r\n",
        "encoded_X = encoder(tokens, segments, None)\r\n",
        "encoded_X.shape, tokens.shape"
      ],
      "execution_count": 8,
      "outputs": [
        {
          "output_type": "execute_result",
          "data": {
            "text/plain": [
              "(torch.Size([2, 8, 768]), torch.Size([2, 8]))"
            ]
          },
          "metadata": {
            "tags": []
          },
          "execution_count": 8
        }
      ]
    },
    {
      "cell_type": "code",
      "metadata": {
        "colab": {
          "base_uri": "https://localhost:8080/"
        },
        "id": "y7I6BErpqT7k",
        "outputId": "026060ae-0b17-49b9-f902-d817829b25b7"
      },
      "source": [
        "tokens, segments"
      ],
      "execution_count": 9,
      "outputs": [
        {
          "output_type": "execute_result",
          "data": {
            "text/plain": [
              "(tensor([[8591, 7297, 5999, 5332, 8144,   20, 2941, 2111],\n",
              "         [6723, 1928, 7891, 9403, 8160, 8915, 4842, 9594]]),\n",
              " tensor([[0, 0, 0, 0, 1, 1, 1, 1],\n",
              "         [0, 0, 0, 1, 1, 1, 1, 1]]))"
            ]
          },
          "metadata": {
            "tags": []
          },
          "execution_count": 9
        }
      ]
    },
    {
      "cell_type": "code",
      "metadata": {
        "colab": {
          "base_uri": "https://localhost:8080/"
        },
        "id": "a5ntLROEqlIk",
        "outputId": "c46877b9-dabd-4ff5-ccc0-040f7dccfe83"
      },
      "source": [
        "encoded_X[:1,:1,:50]"
      ],
      "execution_count": 10,
      "outputs": [
        {
          "output_type": "execute_result",
          "data": {
            "text/plain": [
              "tensor([[[ 1.1707, -0.7642,  1.2720,  0.0570,  0.3845,  0.2649,  0.2280,\n",
              "           0.1486, -0.2950,  0.5735, -0.9621,  0.6385,  0.2041,  0.1260,\n",
              "          -0.0210, -0.3706,  1.0208,  1.8274,  0.3330,  0.0445, -0.0989,\n",
              "           1.0014,  0.4597, -1.1646,  1.0096,  0.3242, -0.1712,  1.5745,\n",
              "           1.4495,  0.6762,  0.2021, -0.5267, -0.7261, -0.1820,  0.1174,\n",
              "          -0.6665, -0.5496,  0.5325,  0.0782, -1.6603,  1.9442,  0.8129,\n",
              "           1.7289,  0.7591, -0.0930, -1.7556,  0.8291, -0.2904, -0.2456,\n",
              "          -0.0932]]], grad_fn=<SliceBackward>)"
            ]
          },
          "metadata": {
            "tags": []
          },
          "execution_count": 10
        }
      ]
    },
    {
      "cell_type": "markdown",
      "metadata": {
        "id": "ZTn6ddje9utY"
      },
      "source": [
        "## Masked Language Modeling\r\n",
        "\r\n",
        "Para codificar(encode) contexto de forma bidirecional representando cada token, BERT mascara os tokens de modo randomico, e usa esses tokens do contexto bidirecioanl para prever os tokens mascarados. Essa tarefa é referida como masked language model.\r\n",
        "\r\n",
        "Se um token é mascarado para previsão ded dados, a entrada dos dados terão o formado de:\r\n",
        "\r\n",
        "\r\n",
        "\r\n",
        "*   < mask > token para 80% do tempo (\"this movie is great\" -> \"this movie is \"< mask >\" \r\n",
        "*   um token radomizado para 10% dos casos (\"this movie is great\" -> \"this movie is drink\")\r\n",
        "*   nenhuma alteração para 10% dos casos (\"this movie is great\" -> \"this movie is great\")\r\n",
        "\r\n",
        "Dessa forma o token especial < mask > não vai ocasionar erros ou vieses ao modelo na etapa de fine-tuning (treinamento melhorado ou destinado a certa tarefa especifica), pois o token em questão aparecera apenas na etapa de pretraining.\r\n",
        "\r\n",
        "Observe que por 10% de 15% do tempo, um token aleatório é inserido. Este ruído ocasional encoraja o BERT a ser menos tendencioso para o token mascarado (especialmente quando o token de rótulo permanece inalterado).\r\n",
        "\r\n",
        "\r\n",
        "\r\n"
      ]
    },
    {
      "cell_type": "code",
      "metadata": {
        "id": "ZXNGDWNPrAY7"
      },
      "source": [
        "class MaskLM(nn.Module):\r\n",
        "  def __init__(self, vocab_size, num_hiddens, num_inputs=768, **kwargs):\r\n",
        "    super(MaskLM, self).__init__(**kwargs)\r\n",
        "    self.mlp = nn.Sequential(nn.Linear(num_inputs, num_hiddens),\r\n",
        "                             nn.ReLU(),\r\n",
        "                             nn.LayerNorm(num_hiddens),\r\n",
        "                             nn.Linear(num_hiddens, vocab_size))\r\n",
        "    \r\n",
        "  def forward(self, X, pred_positions):\r\n",
        "    num_pred_positions = pred_positions.shape[1]\r\n",
        "    pred_positions = pred_positions.reshape(-1)\r\n",
        "    batch_size = X.shape[0]\r\n",
        "    batch_idx = torch.arange(0, batch_size)\r\n",
        "    batch_idx = torch.repeat_interleave(batch_idx, num_pred_positions)\r\n",
        "    masked_X = X[batch_idx, pred_positions]\r\n",
        "    masked_X = masked_X.reshape((batch_size, num_pred_positions, -1))\r\n",
        "    mlm_Y_hat = self.mlp(masked_X)\r\n",
        "    return mlm_Y_hat"
      ],
      "execution_count": 11,
      "outputs": []
    },
    {
      "cell_type": "code",
      "metadata": {
        "colab": {
          "base_uri": "https://localhost:8080/"
        },
        "id": "Q2V3u-jHHSTe",
        "outputId": "d65cae1e-f678-49d0-fe7a-ebbcf65ac16b"
      },
      "source": [
        "mlm = MaskLM(vocab_size, num_hiddens)\r\n",
        "mlm_positions = torch.tensor([[1, 5, 2], [6, 1, 5]])\r\n",
        "mlm_Y_hat = mlm(encoded_X, mlm_positions)\r\n",
        "mlm_Y_hat.shape"
      ],
      "execution_count": 12,
      "outputs": [
        {
          "output_type": "execute_result",
          "data": {
            "text/plain": [
              "torch.Size([2, 3, 10000])"
            ]
          },
          "metadata": {
            "tags": []
          },
          "execution_count": 12
        }
      ]
    },
    {
      "cell_type": "markdown",
      "metadata": {
        "id": "t5pDBJRtIaCN"
      },
      "source": [
        "Considerando o valor real como mlm_Y, podemos calcular a perda da cross entropy do modelo BERT."
      ]
    },
    {
      "cell_type": "code",
      "metadata": {
        "colab": {
          "base_uri": "https://localhost:8080/"
        },
        "id": "Ffm2ZhVfB_cu",
        "outputId": "5c342e48-7f4d-46e8-c138-43662deeec9a"
      },
      "source": [
        "mlm_Y = torch.tensor([[7, 8, 9], [10, 11, 12]])\r\n",
        "loss = nn.CrossEntropyLoss(reduction='none')\r\n",
        "mlm_l = loss(mlm_Y_hat.reshape((-1, vocab_size)), mlm_Y.reshape(-1))\r\n",
        "mlm_l"
      ],
      "execution_count": 13,
      "outputs": [
        {
          "output_type": "execute_result",
          "data": {
            "text/plain": [
              "tensor([9.2648, 9.1790, 9.1043, 9.1087, 9.1818, 9.3099],\n",
              "       grad_fn=<NllLossBackward>)"
            ]
          },
          "metadata": {
            "tags": []
          },
          "execution_count": 13
        }
      ]
    },
    {
      "cell_type": "code",
      "metadata": {
        "colab": {
          "base_uri": "https://localhost:8080/"
        },
        "id": "5VB2mmoYEKOt",
        "outputId": "d920f51e-2900-4c75-af70-a5bbed6225cb"
      },
      "source": [
        "## Apenas para verificar como o modelo funciona no passo a passo\r\n",
        "mlm_positions = torch.tensor([[1, 5, 2], [6, 1, 5]])\r\n",
        "encoded_X.shape, mlm_positions.shape, mlm_positions.reshape(-1).shape\r\n",
        "batch_idx = torch.arange(0, encoded_X.shape[0])\r\n",
        "num_pred_positions = mlm_positions.shape[1]\r\n",
        "batch_size = encoded_X.shape[0]\r\n",
        "batch_idx = torch.arange(0, batch_size)\r\n",
        "batch_idx = torch.repeat_interleave(batch_idx, num_pred_positions)\r\n",
        "batch_idx\r\n",
        "masked_X = encoded_X[batch_idx, mlm_positions.reshape(-1)]\r\n",
        "encoded_X.shape, masked_X.shape, batch_idx, mlm_positions.reshape(-1)\r\n",
        "masked_X[1,:].shape == encoded_X[1,6,:].shape"
      ],
      "execution_count": 14,
      "outputs": [
        {
          "output_type": "execute_result",
          "data": {
            "text/plain": [
              "True"
            ]
          },
          "metadata": {
            "tags": []
          },
          "execution_count": 14
        }
      ]
    },
    {
      "cell_type": "markdown",
      "metadata": {
        "id": "wzxtVifgI6dG"
      },
      "source": [
        "## Next Sentence Prediction\r\n",
        "\r\n",
        "Embora a modelagem de linguagem mascarada seja capaz de codificar contexto bidirecional para representar palavras, ela não modela explicitamente a relação lógica entre pares de texto. Para ajudar a entender a relação entre duas sequências de texto, o BERT considera uma tarefa de classificação binária, a previsão da próxima frase, em seu pré-treinamento. Ao gerar pares de frases para pré-treinamento, na metade do tempo eles são de fato frases consecutivas com o rótulo “Verdadeiro”; enquanto, na outra metade do tempo, a segunda frase é amostrada aleatoriamente do corpus com o rótulo “False”.\r\n",
        "\r\n",
        "A seguinte classe NextSentencePred usa um MLP de uma camada oculta para prever se a segunda frase é a próxima frase da primeira na sequência de entrada de BERT. Devido à autoatenção no codificador do Transformer, a representação BERT do token especial “< cls >” codifica as duas sentenças da entrada. Portanto, a camada de saída (self.output) do classificador MLP assume X como a entrada, onde X é a saída da camada oculta MLP cuja entrada é o token codificado “< cls >”.\r\n"
      ]
    },
    {
      "cell_type": "code",
      "metadata": {
        "id": "jBqDy5Q6ISAz"
      },
      "source": [
        "class NextSentencePred(nn.Module):\r\n",
        "    def __init__(self, num_inputs, **kwargs):\r\n",
        "        super(NextSentencePred, self).__init__(**kwargs)\r\n",
        "        self.output = nn.Linear(num_inputs, 2)\r\n",
        "\r\n",
        "    def forward(self, X):\r\n",
        "        # `X` shape: (batch size, `num_hiddens`)\r\n",
        "        return self.output(X)"
      ],
      "execution_count": 15,
      "outputs": []
    },
    {
      "cell_type": "code",
      "metadata": {
        "colab": {
          "base_uri": "https://localhost:8080/"
        },
        "id": "JroUplqVwMAv",
        "outputId": "0e5188b2-23d2-455b-8e90-083b6beb6026"
      },
      "source": [
        "# PyTorch by default won't flatten the tensor as seen in mxnet where, if\r\n",
        "# flatten=True, all but the first axis of input data are collapsed together\r\n",
        "encoded_X = torch.flatten(encoded_X, start_dim=1)\r\n",
        "# input_shape for NSP: (batch size, `num_hiddens`)\r\n",
        "nsp = NextSentencePred(encoded_X.shape[-1])\r\n",
        "nsp_Y_hat = nsp(encoded_X)\r\n",
        "nsp_Y_hat.shape"
      ],
      "execution_count": 16,
      "outputs": [
        {
          "output_type": "execute_result",
          "data": {
            "text/plain": [
              "torch.Size([2, 2])"
            ]
          },
          "metadata": {
            "tags": []
          },
          "execution_count": 16
        }
      ]
    },
    {
      "cell_type": "markdown",
      "metadata": {
        "id": "IQ4aiHNuwkZH"
      },
      "source": [
        "## Colocando tudo junto\r\n",
        "\r\n",
        "Quando treinando BERT, a perda final é uma combinação linear da função de perda para a masked language e a predição da proxima sentença. Portanto, podemos agora definir nossa classe BERTModel instanciando as três classes criadas BERTEncoder, MaskLM, and NextSentencePred. A etapa forward retorna a representação BERT codificada, predição do modelo masked language e a predição da tarefa next sentence (encoded_X, mlm_Y_hat, nsp_Y_hat)."
      ]
    },
    {
      "cell_type": "code",
      "metadata": {
        "id": "3Omu9ssByV2Z"
      },
      "source": [
        "class BERTModel(nn.Module):\r\n",
        "    def __init__(self, vocab_size, num_hiddens, norm_shape, ffn_num_input,\r\n",
        "                 ffn_num_hiddens, num_heads, num_layers, dropout,\r\n",
        "                 max_len=1000, key_size=768, query_size=768, value_size=768,\r\n",
        "                 hid_in_features=768, mlm_in_features=768,\r\n",
        "                 nsp_in_features=768):\r\n",
        "        super(BERTModel, self).__init__()\r\n",
        "        self.encoder = BERTEncoder(vocab_size, num_hiddens, norm_shape,\r\n",
        "                    ffn_num_input, ffn_num_hiddens, num_heads, num_layers,\r\n",
        "                    dropout, max_len=max_len, key_size=key_size,\r\n",
        "                    query_size=query_size, value_size=value_size)\r\n",
        "        self.hidden = nn.Sequential(nn.Linear(hid_in_features, num_hiddens),\r\n",
        "                                    nn.Tanh())\r\n",
        "        self.mlm = MaskLM(vocab_size, num_hiddens, mlm_in_features)\r\n",
        "        self.nsp = NextSentencePred(nsp_in_features)\r\n",
        "\r\n",
        "    def forward(self, tokens, segments, valid_lens=None, pred_positions=None):\r\n",
        "        encoded_X = self.encoder(tokens, segments, valid_lens)\r\n",
        "        if pred_positions is not None:\r\n",
        "            mlm_Y_hat = self.mlm(encoded_X, pred_positions)\r\n",
        "        else:\r\n",
        "            mlm_Y_hat = None\r\n",
        "        # The hidden layer of the MLP classifier for next sentence prediction.\r\n",
        "        # 0 is the index of the '<cls>' token\r\n",
        "        nsp_Y_hat = self.nsp(self.hidden(encoded_X[:, 0, :]))\r\n",
        "        return encoded_X, mlm_Y_hat, nsp_Y_hat"
      ],
      "execution_count": 17,
      "outputs": []
    },
    {
      "cell_type": "markdown",
      "metadata": {
        "id": "uITdsggnyz0m"
      },
      "source": [
        "## The Dataset for Pretraining BERT\r\n",
        "\r\n",
        "Para pretreinar nosso modelo BERT nos precisamos gerar um dataset no formato ideial para facilitar as duas tarefas de pretreinamento : masked language modelin e next sentence prediction. Por um lado o modelo original BERT é pretreinado usando a concatenação de 2 dataset BookCorpus e English Wikipedia. Por outro lado, o modelo BERT pretreinado para uso pode não ser aplicado corretamente em tarefas especificas como a medicina. Dessa forma, esta se tornando popular customizar datasets para pretreinar o modelo BERT. Para nosso caso usaremos um pequeno corpus WikiText-2.\r\n",
        "\r\n",
        "WikiText-2 retém as pontuações originais, facilitando a tarefa de next sentence prediction e retém, também, numeros e case originais."
      ]
    },
    {
      "cell_type": "code",
      "metadata": {
        "id": "EzVzX-fFy4Fv"
      },
      "source": [
        "import os\r\n",
        "import random"
      ],
      "execution_count": 18,
      "outputs": []
    },
    {
      "cell_type": "code",
      "metadata": {
        "id": "X5l4BcYa11wB"
      },
      "source": [
        "d2l.DATA_HUB['wikitext-2'] = (\r\n",
        "    'https://s3.amazonaws.com/research.metamind.io/wikitext/'\r\n",
        "    'wikitext-2-v1.zip', '3c914d17d80b1459be871a5039ac23e752a53cbe')\r\n",
        "\r\n",
        "def _read_wiki(data_dir):\r\n",
        "  file_name = os.path.join(data_dir, 'wiki.train.tokens')\r\n",
        "  with open(file_name, 'r') as f:\r\n",
        "    lines = f.readlines()\r\n",
        "  paragraphs = [line.strip().lower().split(' . ') for line in lines if len(line.split(' . ')) >= 2]\r\n",
        "  random.shuffle(paragraphs)\r\n",
        "  return paragraphs"
      ],
      "execution_count": 19,
      "outputs": []
    },
    {
      "cell_type": "code",
      "metadata": {
        "colab": {
          "base_uri": "https://localhost:8080/"
        },
        "id": "3bsFdfrt2biQ",
        "outputId": "173d2d83-3661-4c39-d5af-a50ef720d8fa"
      },
      "source": [
        "d2l.DATA_HUB['wikitext-2']"
      ],
      "execution_count": 20,
      "outputs": [
        {
          "output_type": "execute_result",
          "data": {
            "text/plain": [
              "('https://s3.amazonaws.com/research.metamind.io/wikitext/wikitext-2-v1.zip',\n",
              " '3c914d17d80b1459be871a5039ac23e752a53cbe')"
            ]
          },
          "metadata": {
            "tags": []
          },
          "execution_count": 20
        }
      ]
    },
    {
      "cell_type": "markdown",
      "metadata": {
        "id": "h_GqdgGR5TLh"
      },
      "source": [
        "### Next Sentence Prediction Task"
      ]
    },
    {
      "cell_type": "code",
      "metadata": {
        "id": "-oAwp5DM31OR"
      },
      "source": [
        "# _get_next_sentence function generates a training example for the binary classification task.\r\n",
        "def _get_next_sentence(sentence, next_sentence, paragraphs):\r\n",
        "    if random.random() < 0.5:\r\n",
        "        is_next = True\r\n",
        "    else:\r\n",
        "        # `paragraphs` is a list of lists of lists\r\n",
        "        next_sentence = random.choice(random.choice(paragraphs))\r\n",
        "        is_next = False\r\n",
        "    return sentence, next_sentence, is_next"
      ],
      "execution_count": 21,
      "outputs": []
    },
    {
      "cell_type": "markdown",
      "metadata": {
        "id": "7wC-VL0J4KLA"
      },
      "source": [
        "A função anterior gera exemplos de treinamento para a next sentence predicition da entrada *paragraph* invocando a função **_get_next_sentence()**.\r\n",
        "Aqui *paragraph* é uma lista de sentenças, onde cada sentença é uma lista de tokens. O argumento *max_len* especifica o tamanho maximo da senquencia de entrada BERT durante o pretreinamento."
      ]
    },
    {
      "cell_type": "code",
      "metadata": {
        "id": "0fdsmnAB4Itn"
      },
      "source": [
        "def _get_nsp_data_from_paragraph(paragraph, paragraphs, vocab, max_len):\r\n",
        "  nsp_data_from_paragraph = []\r\n",
        "  for i in range(len(paragraph) - 1):\r\n",
        "    tokens_a, tokens_b, is_next = _get_next_sentence(\r\n",
        "        paragraph[i], paragraph[i + 1], paragraphs\r\n",
        "    )\r\n",
        "    # Consider 1 '<cls>' token and 2 '<sep>' tokens\r\n",
        "    if len(tokens_a) + len(tokens_b) + 3 > max_len:\r\n",
        "      continue\r\n",
        "    tokens, segments = d2l.get_tokens_and_segments(tokens_a, tokens_b)\r\n",
        "    nsp_data_from_paragraph.append((tokens, segments, is_next))\r\n",
        "  return nsp_data_from_paragraph"
      ],
      "execution_count": 22,
      "outputs": []
    },
    {
      "cell_type": "markdown",
      "metadata": {
        "id": "lsE3oKge878X"
      },
      "source": [
        "### Generating the Masked Language Modeling Task\r\n",
        "\r\n",
        "Para gerar exemplos de treinamento para a tarefa de modelagem de linguagem mascarada a partir de uma sequência de entrada de BERT, definimos a seguinte função _replace_mlm_tokens. Em suas entradas, tokens é uma lista de tokens que representam uma sequência de entrada de BERT, candidate_pred_positions é uma lista de índices de token da sequência de entrada de BERT excluindo aqueles de tokens especiais (tokens especiais não são previstos na tarefa de modelagem de linguagem mascarada) e num_mlm_preds indica o número de previsões (recorde 15% de tokens aleatórios para prever). Em cada posição de previsão, a entrada pode ser substituída por um token especial “< mask >” ou um token aleatório, ou permanecer inalterado. No final, a função retorna os tokens de entrada após uma possível substituição, os índices de token onde as previsões ocorrem e os rótulos para essas previsões."
      ]
    },
    {
      "cell_type": "code",
      "metadata": {
        "id": "4nVpLMkwEQxx"
      },
      "source": [
        "def _replace_mlm_tokens(tokens, candidate_pred_positions, num_mlm_preds,\r\n",
        "                        vocab):\r\n",
        "    # Make a new copy of tokens for the input of a masked language model,\r\n",
        "    # where the input may contain replaced '<mask>' or random tokens\r\n",
        "    mlm_input_tokens = [token for token in tokens]\r\n",
        "    pred_positions_and_labels = []\r\n",
        "    # Shuffle for getting 15% random tokens for prediction in the masked\r\n",
        "    # language modeling task\r\n",
        "    random.shuffle(candidate_pred_positions)\r\n",
        "    for mlm_pred_position in candidate_pred_positions:\r\n",
        "        if len(pred_positions_and_labels) >= num_mlm_preds:\r\n",
        "            break\r\n",
        "        masked_token = None\r\n",
        "        # 80% of the time: replace the word with the '<mask>' token\r\n",
        "        if random.random() < 0.8:\r\n",
        "            masked_token = '<mask>'\r\n",
        "        else:\r\n",
        "            # 10% of the time: keep the word unchanged\r\n",
        "            if random.random() < 0.5:\r\n",
        "                masked_token = tokens[mlm_pred_position]\r\n",
        "            # 10% of the time: replace the word with a random word\r\n",
        "            else:\r\n",
        "                masked_token = random.randint(0, len(vocab) - 1)\r\n",
        "        mlm_input_tokens[mlm_pred_position] = masked_token\r\n",
        "        pred_positions_and_labels.append(\r\n",
        "            (mlm_pred_position, tokens[mlm_pred_position]))\r\n",
        "    return mlm_input_tokens, pred_positions_and_labels"
      ],
      "execution_count": 23,
      "outputs": []
    },
    {
      "cell_type": "code",
      "metadata": {
        "id": "fBnMsyW5GdLr"
      },
      "source": [
        "def _get_mlm_data_from_tokens(tokens, vocab):\r\n",
        "    candidate_pred_positions = []\r\n",
        "    # `tokens` is a list of strings\r\n",
        "    for i, token in enumerate(tokens):\r\n",
        "        # Special tokens are not predicted in the masked language modeling\r\n",
        "        # task\r\n",
        "        if token in ['<cls>', '<sep>']:\r\n",
        "            continue\r\n",
        "        candidate_pred_positions.append(i)\r\n",
        "    # 15% of random tokens are predicted in the masked language modeling task\r\n",
        "    num_mlm_preds = max(1, round(len(tokens) * 0.15))\r\n",
        "    mlm_input_tokens, pred_positions_and_labels = _replace_mlm_tokens(\r\n",
        "        tokens, candidate_pred_positions, num_mlm_preds, vocab)\r\n",
        "    pred_positions_and_labels = sorted(pred_positions_and_labels,\r\n",
        "                                       key=lambda x: x[0])\r\n",
        "    pred_positions = [v[0] for v in pred_positions_and_labels]\r\n",
        "    mlm_pred_labels = [v[1] for v in pred_positions_and_labels]\r\n",
        "    return vocab[mlm_input_tokens], pred_positions, vocab[mlm_pred_labels]"
      ],
      "execution_count": 24,
      "outputs": []
    },
    {
      "cell_type": "markdown",
      "metadata": {
        "id": "ycfWVc7UImFx"
      },
      "source": [
        "### Transforming Text into the Pretraining Dataset\r\n",
        "\r\n",
        "Agora estamos quase prontos para customizar uma classe Dataset para pré-treinamento de BERT. Antes disso, ainda precisamos definir uma função auxiliar _pad_bert_inputs para anexar os tokens especiais “< mask >” às entradas. Seus argumentos *example* contêm as saídas das funções auxiliares _get_nsp_data_from_paragraph e _get_mlm_data_from_tokens para as duas tarefas de pré-treinamento."
      ]
    },
    {
      "cell_type": "code",
      "metadata": {
        "id": "fwSLbzagIgWh"
      },
      "source": [
        "def _pad_bert_inputs(examples, max_len, vocab):\r\n",
        "    max_num_mlm_preds = round(max_len * 0.15)\r\n",
        "    all_token_ids, all_segments, valid_lens,  = [], [], []\r\n",
        "    all_pred_positions, all_mlm_weights, all_mlm_labels = [], [], []\r\n",
        "    nsp_labels = []\r\n",
        "    for (token_ids, pred_positions, mlm_pred_label_ids, segments,\r\n",
        "         is_next) in examples:\r\n",
        "        all_token_ids.append(torch.tensor(token_ids + [vocab['<pad>']] * (\r\n",
        "            max_len - len(token_ids)), dtype=torch.long))\r\n",
        "        all_segments.append(torch.tensor(segments + [0] * (\r\n",
        "            max_len - len(segments)), dtype=torch.long))\r\n",
        "        # `valid_lens` excludes count of '<pad>' tokens\r\n",
        "        valid_lens.append(torch.tensor(len(token_ids), dtype=torch.float32))\r\n",
        "        all_pred_positions.append(torch.tensor(pred_positions + [0] * (\r\n",
        "            max_num_mlm_preds - len(pred_positions)), dtype=torch.long))\r\n",
        "        # Predictions of padded tokens will be filtered out in the loss via\r\n",
        "        # multiplication of 0 weights\r\n",
        "        all_mlm_weights.append(\r\n",
        "            torch.tensor([1.0] * len(mlm_pred_label_ids) + [0.0] * (\r\n",
        "                max_num_mlm_preds - len(pred_positions)),\r\n",
        "                dtype=torch.float32))\r\n",
        "        all_mlm_labels.append(torch.tensor(mlm_pred_label_ids + [0] * (\r\n",
        "            max_num_mlm_preds - len(mlm_pred_label_ids)), dtype=torch.long))\r\n",
        "        nsp_labels.append(torch.tensor(is_next, dtype=torch.long))\r\n",
        "    return (all_token_ids, all_segments, valid_lens, all_pred_positions,\r\n",
        "            all_mlm_weights, all_mlm_labels, nsp_labels)"
      ],
      "execution_count": 25,
      "outputs": []
    },
    {
      "cell_type": "markdown",
      "metadata": {
        "id": "_Phpr6GWYwZ8"
      },
      "source": [
        "Colocando as funções auxiliares para gerar exemplos de treinamento das duas tarefas de pré-treinamento, e a função auxiliar para preencher entradas juntas, personalizamos a seguinte classe _WikiTextDataset como o conjunto de dados WikiText-2 para pré-treinamento de BERT. Ao implementar a função $__getitem__$, podemos acessar arbitrariamente os exemplos de pré-treinamento (modelagem de linguagem mascarada e previsão da próxima frase) gerados a partir de um par de frases do corpus WikiText-2."
      ]
    },
    {
      "cell_type": "code",
      "metadata": {
        "id": "ctmRAsFrP_2T"
      },
      "source": [
        "class _WikiTextDataset(torch.utils.data.Dataset):\r\n",
        "    def __init__(self, paragraphs, max_len):\r\n",
        "        # Input `paragraphs[i]` is a list of sentence strings representing a\r\n",
        "        # paragraph; while output `paragraphs[i]` is a list of sentences\r\n",
        "        # representing a paragraph, where each sentence is a list of tokens\r\n",
        "        paragraphs = [d2l.tokenize(\r\n",
        "            paragraph, token='word') for paragraph in paragraphs]\r\n",
        "        sentences = [sentence for paragraph in paragraphs\r\n",
        "                     for sentence in paragraph]\r\n",
        "        self.vocab = d2l.Vocab(sentences, min_freq=5, reserved_tokens=[\r\n",
        "            '<pad>', '<mask>', '<cls>', '<sep>'])\r\n",
        "        # Get data for the next sentence prediction task\r\n",
        "        examples = []\r\n",
        "        for paragraph in paragraphs:\r\n",
        "            examples.extend(_get_nsp_data_from_paragraph(\r\n",
        "                paragraph, paragraphs, self.vocab, max_len))\r\n",
        "        # Get data for the masked language model task\r\n",
        "        examples = [(_get_mlm_data_from_tokens(tokens, self.vocab)\r\n",
        "                      + (segments, is_next))\r\n",
        "                     for tokens, segments, is_next in examples]\r\n",
        "        # Pad inputs\r\n",
        "        (self.all_token_ids, self.all_segments, self.valid_lens,\r\n",
        "         self.all_pred_positions, self.all_mlm_weights,\r\n",
        "         self.all_mlm_labels, self.nsp_labels) = _pad_bert_inputs(\r\n",
        "            examples, max_len, self.vocab)\r\n",
        "\r\n",
        "    def __getitem__(self, idx):\r\n",
        "        return (self.all_token_ids[idx], self.all_segments[idx],\r\n",
        "                self.valid_lens[idx], self.all_pred_positions[idx],\r\n",
        "                self.all_mlm_weights[idx], self.all_mlm_labels[idx],\r\n",
        "                self.nsp_labels[idx])\r\n",
        "\r\n",
        "    def __len__(self):\r\n",
        "        return len(self.all_token_ids)"
      ],
      "execution_count": 26,
      "outputs": []
    },
    {
      "cell_type": "code",
      "metadata": {
        "id": "SX1mGxUnZ3nz"
      },
      "source": [
        "def load_data_wiki(batch_size, max_len):\r\n",
        "    num_workers = d2l.get_dataloader_workers()\r\n",
        "    data_dir = d2l.download_extract('wikitext-2', 'wikitext-2')\r\n",
        "    paragraphs = _read_wiki(data_dir)\r\n",
        "    train_set = _WikiTextDataset(paragraphs, max_len)\r\n",
        "    train_iter = torch.utils.data.DataLoader(train_set, batch_size,\r\n",
        "                                        shuffle=True, num_workers=num_workers)\r\n",
        "    return train_iter, train_set.vocab"
      ],
      "execution_count": 27,
      "outputs": []
    },
    {
      "cell_type": "code",
      "metadata": {
        "colab": {
          "base_uri": "https://localhost:8080/"
        },
        "id": "Y_T2S4X4jloZ",
        "outputId": "5f24de41-80f9-490d-d5da-96ce56e718e4"
      },
      "source": [
        "batch_size, max_len = 512, 64\r\n",
        "train_iter, vocab = load_data_wiki(batch_size, max_len)\r\n",
        "\r\n",
        "for (tokens_X, segments_X, valid_lens_x, pred_positions_X, mlm_weights_X,\r\n",
        "     mlm_Y, nsp_y) in train_iter:\r\n",
        "    print(tokens_X.shape, segments_X.shape, valid_lens_x.shape,\r\n",
        "          pred_positions_X.shape, mlm_weights_X.shape, mlm_Y.shape,\r\n",
        "          nsp_y.shape)\r\n",
        "    break"
      ],
      "execution_count": 28,
      "outputs": [
        {
          "output_type": "stream",
          "text": [
            "Downloading ../data/wikitext-2-v1.zip from https://s3.amazonaws.com/research.metamind.io/wikitext/wikitext-2-v1.zip...\n",
            "torch.Size([512, 64]) torch.Size([512, 64]) torch.Size([512]) torch.Size([512, 10]) torch.Size([512, 10]) torch.Size([512, 10]) torch.Size([512])\n"
          ],
          "name": "stdout"
        }
      ]
    },
    {
      "cell_type": "code",
      "metadata": {
        "id": "EStLmtRajpFh",
        "colab": {
          "base_uri": "https://localhost:8080/"
        },
        "outputId": "ae5020fb-de41-46c3-df8f-ce0cb1bb6c83"
      },
      "source": [
        "len(vocab)"
      ],
      "execution_count": 29,
      "outputs": [
        {
          "output_type": "execute_result",
          "data": {
            "text/plain": [
              "20256"
            ]
          },
          "metadata": {
            "tags": []
          },
          "execution_count": 29
        }
      ]
    },
    {
      "cell_type": "code",
      "metadata": {
        "id": "bScspY0wyJ1_",
        "colab": {
          "base_uri": "https://localhost:8080/"
        },
        "outputId": "79822787-9ac5-484e-fb4a-f38c6fd4702b"
      },
      "source": [
        "train_iter.dataset[1]"
      ],
      "execution_count": 30,
      "outputs": [
        {
          "output_type": "execute_result",
          "data": {
            "text/plain": [
              "(tensor([    3,     9,  3340,     6,     5,  8636,   586,     2,     6,  9717,\n",
              "             7,     5,  8636, 17973,     8,    62,   370,   586,     2,   302,\n",
              "            44,   379,     2,    10,  1755,  1828,     4,   618,    19,     2,\n",
              "             2,   170,   640,  1005,    13,  2365,    89,    22,  3643,   623,\n",
              "             6,     2,     2,    48,   214,     0,   170,    10,  1098,     5,\n",
              "          2421,     4,     1,     1,     1,     1,     1,     1,     1,     1,\n",
              "             1,     1,     1,     1]),\n",
              " tensor([0, 0, 0, 0, 0, 0, 0, 0, 0, 0, 0, 0, 0, 0, 0, 0, 0, 0, 0, 0, 0, 0, 0, 0,\n",
              "         0, 0, 0, 1, 1, 1, 1, 1, 1, 1, 1, 1, 1, 1, 1, 1, 1, 1, 1, 1, 1, 1, 1, 1,\n",
              "         1, 1, 1, 1, 0, 0, 0, 0, 0, 0, 0, 0, 0, 0, 0, 0]),\n",
              " tensor(52.),\n",
              " tensor([ 7, 18, 22, 29, 30, 41, 42, 45,  0,  0]),\n",
              " tensor([1., 1., 1., 1., 1., 1., 1., 1., 0., 0.]),\n",
              " tensor([3573,    6, 2182,  214,  329,   57, 1679,  522,    0,    0]),\n",
              " tensor(0))"
            ]
          },
          "metadata": {
            "tags": []
          },
          "execution_count": 30
        }
      ]
    },
    {
      "cell_type": "markdown",
      "metadata": {
        "id": "_rPelTRJl0JJ"
      },
      "source": [
        "## Pretraining BERT\r\n",
        "\r\n",
        "Para começar, carregamos o conjunto de dados WikiText-2 como minibatches de exemplos de pré-treinamento para modelagem de linguagem mascarada e previsão da próxima frase. O tamanho do lote é 512 e o comprimento máximo de uma sequência de entrada de BERT é 64. Observe que no modelo BERT original, o comprimento máximo é 512.\r\n",
        "\r\n",
        "O BERT original tem duas versões de tamanhos de modelo diferentes. O modelo básico (BERTBASE) usa 12 camadas (blocos codificadores do Transformer) com 768 unidades ocultas (tamanho oculto) e 12 cabeças de autoatenção. O modelo grande (BERTLARGE) usa 24 camadas com 1024 unidades ocultas e 16 cabeças de autoatenção. Notavelmente, o primeiro tem 110 milhões de parâmetros, enquanto o último tem 340 milhões de parâmetros. Para demonstração com facilidade, definimos um pequeno BERT, usando 2 camadas, 128 unidades ocultas e 2 cabeças de autoatenção."
      ]
    },
    {
      "cell_type": "code",
      "metadata": {
        "id": "M1e5rpABzyzK"
      },
      "source": [
        "batch_size, max_len = 512, 64\r\n",
        "train_iter, vocab = d2l.load_data_wiki(batch_size, max_len)"
      ],
      "execution_count": 31,
      "outputs": []
    },
    {
      "cell_type": "code",
      "metadata": {
        "id": "TmEeQKABwllb"
      },
      "source": [
        "net = d2l.BERTModel(len(vocab), num_hiddens=128, norm_shape=[128],\r\n",
        "                    ffn_num_input=128, ffn_num_hiddens=256, num_heads=2,\r\n",
        "                    num_layers=2, dropout=0.2, key_size=128, query_size=128,\r\n",
        "                    value_size=128, hid_in_features=128, mlm_in_features=128,\r\n",
        "                    nsp_in_features=128)\r\n",
        "devices = d2l.try_all_gpus()\r\n",
        "loss = nn.CrossEntropyLoss()\r\n"
      ],
      "execution_count": 32,
      "outputs": []
    },
    {
      "cell_type": "markdown",
      "metadata": {
        "id": "vAwtuxCzxs_K"
      },
      "source": [
        "Antes de definir o loop de treinamento, definimos uma função auxiliar _get_batch_loss_bert. Dado o fragmento de exemplos de treinamento, esta função calcula a perda para a modelagem de linguagem mascarada e as tarefas de previsão da próxima frase. Observe que a perda final do pré-treinamento de BERT é apenas a soma da perda de modelagem da linguagem mascarada e da perda de previsão da próxima frase."
      ]
    },
    {
      "cell_type": "code",
      "metadata": {
        "id": "jRx2l_L0xk6c"
      },
      "source": [
        "def _get_batch_loss_bert(net, loss, vocab_size, tokens_X,\r\n",
        "                         segments_X, valid_lens_x,\r\n",
        "                         pred_positions_X, mlm_weights_X,\r\n",
        "                         mlm_Y, nsp_y):\r\n",
        "    # Forward pass (return encoded_X, mlm_Y_hat, nsp_Y_hat)\r\n",
        "    _, mlm_Y_hat, nsp_Y_hat = net(tokens_X, segments_X,\r\n",
        "                                  valid_lens_x.reshape(-1),\r\n",
        "                                  pred_positions_X)\r\n",
        "    # Compute masked language model loss\r\n",
        "    mlm_l = loss(mlm_Y_hat.reshape(-1, vocab_size), mlm_Y.reshape(-1)) *\\\r\n",
        "    mlm_weights_X.reshape(-1, 1)\r\n",
        "    mlm_l = mlm_l.sum() / (mlm_weights_X.sum() + 1e-8)\r\n",
        "    # Compute next sentence prediction loss\r\n",
        "    nsp_l = loss(nsp_Y_hat, nsp_y)\r\n",
        "    l = mlm_l + nsp_l\r\n",
        "    return mlm_l, nsp_l, l"
      ],
      "execution_count": 33,
      "outputs": []
    },
    {
      "cell_type": "code",
      "metadata": {
        "id": "5pth17TrzebG"
      },
      "source": [
        "def train_bert(train_iter, net, loss, vocab_size, devices, num_steps):\r\n",
        "  net = nn.DataParallel(net, device_ids=devices).to(devices[0])\r\n",
        "  trainer = torch.optim.Adam(net.parameters(), lr = 1e-3)\r\n",
        "  step, timer = 0, d2l.Timer()\r\n",
        "  animator = d2l.Animator(xlabel='step', ylabel='loss',\r\n",
        "                            xlim=[1, num_steps], legend=['mlm', 'nsp'])\r\n",
        "  # Sum of masked language modeling losses, sum of next sentence prediction\r\n",
        "  # losses, no. of sentence pairs, count\r\n",
        "  metric = d2l.Accumulator(4)\r\n",
        "  num_steps_reached = False\r\n",
        "  while step < num_steps and not num_steps_reached:\r\n",
        "    for tokens_X, segments_X, valid_lens_x, pred_positions_X, mlm_weights_X, mlm_Y, nsp_y in train_iter:\r\n",
        "      tokens_X = tokens_X.to(devices[0])\r\n",
        "      segments_X = segments_X.to(devices[0])\r\n",
        "      valid_lens_x = valid_lens_x.to(devices[0])\r\n",
        "      pred_positions_X = pred_positions_X.to(devices[0])\r\n",
        "      mlm_weights_X = mlm_weights_X.to(devices[0])\r\n",
        "      mlm_Y, nsp_y = mlm_Y.to(devices[0]), nsp_y.to(devices[0])\r\n",
        "      trainer.zero_grad()\r\n",
        "      timer.start()\r\n",
        "      mlm_l, nsp_l, l = _get_batch_loss_bert(\r\n",
        "          net, loss, vocab_size, tokens_X, segments_X, valid_lens_x,\r\n",
        "          pred_positions_X, mlm_weights_X, mlm_Y, nsp_y)\r\n",
        "      l.backward()\r\n",
        "      trainer.step()\r\n",
        "      metric.add(mlm_l, nsp_l, tokens_X.shape[0], 1)\r\n",
        "      timer.stop()\r\n",
        "      animator.add(step + 1,\r\n",
        "                   (metric[0] / metric[3], metric[1] / metric[3]))\r\n",
        "      step += 1\r\n",
        "      if step == num_steps:\r\n",
        "        num_steps_reached = True\r\n",
        "        break\r\n",
        "      \r\n",
        "  print(f'MLM loss {metric[0] / metric[3]:.3f}, '\r\n",
        "        f'NSP loss {metric[1] / metric[3]:.3f}')\r\n",
        "  print(f'{metric[2] / timer.sum():.1f} sentence pairs/sec on '\r\n",
        "        f'{str(devices)}')\r\n"
      ],
      "execution_count": 34,
      "outputs": []
    },
    {
      "cell_type": "code",
      "metadata": {
        "colab": {
          "base_uri": "https://localhost:8080/",
          "height": 296
        },
        "id": "fQ0fqk79-xXd",
        "outputId": "fcde491f-3951-4959-914f-3a113019617b"
      },
      "source": [
        "train_bert(train_iter, net, loss, len(vocab), devices, 50)"
      ],
      "execution_count": 35,
      "outputs": [
        {
          "output_type": "stream",
          "text": [
            "MLM loss 6.090, NSP loss 0.696\n",
            "5515.3 sentence pairs/sec on [device(type='cuda', index=0)]\n"
          ],
          "name": "stdout"
        },
        {
          "output_type": "display_data",
          "data": {
            "text/plain": [
              "<Figure size 252x180 with 1 Axes>"
            ],
            "image/svg+xml": "<?xml version=\"1.0\" encoding=\"utf-8\" standalone=\"no\"?>\n<!DOCTYPE svg PUBLIC \"-//W3C//DTD SVG 1.1//EN\"\n  \"http://www.w3.org/Graphics/SVG/1.1/DTD/svg11.dtd\">\n<!-- Created with matplotlib (https://matplotlib.org/) -->\n<svg height=\"180.65625pt\" version=\"1.1\" viewBox=\"0 0 249.465625 180.65625\" width=\"249.465625pt\" xmlns=\"http://www.w3.org/2000/svg\" xmlns:xlink=\"http://www.w3.org/1999/xlink\">\n <defs>\n  <style type=\"text/css\">\n*{stroke-linecap:butt;stroke-linejoin:round;}\n  </style>\n </defs>\n <g id=\"figure_1\">\n  <g id=\"patch_1\">\n   <path d=\"M 0 180.65625 \nL 249.465625 180.65625 \nL 249.465625 0 \nL 0 0 \nz\n\" style=\"fill:none;\"/>\n  </g>\n  <g id=\"axes_1\">\n   <g id=\"patch_2\">\n    <path d=\"M 40.603125 143.1 \nL 235.903125 143.1 \nL 235.903125 7.2 \nL 40.603125 7.2 \nz\n\" style=\"fill:#ffffff;\"/>\n   </g>\n   <g id=\"matplotlib.axis_1\">\n    <g id=\"xtick_1\">\n     <g id=\"line2d_1\">\n      <path clip-path=\"url(#p51a5faee9b)\" d=\"M 76.474554 143.1 \nL 76.474554 7.2 \n\" style=\"fill:none;stroke:#b0b0b0;stroke-linecap:square;stroke-width:0.8;\"/>\n     </g>\n     <g id=\"line2d_2\">\n      <defs>\n       <path d=\"M 0 0 \nL 0 3.5 \n\" id=\"mc6a5d564b4\" style=\"stroke:#000000;stroke-width:0.8;\"/>\n      </defs>\n      <g>\n       <use style=\"stroke:#000000;stroke-width:0.8;\" x=\"76.474554\" xlink:href=\"#mc6a5d564b4\" y=\"143.1\"/>\n      </g>\n     </g>\n     <g id=\"text_1\">\n      <!-- 10 -->\n      <defs>\n       <path d=\"M 12.40625 8.296875 \nL 28.515625 8.296875 \nL 28.515625 63.921875 \nL 10.984375 60.40625 \nL 10.984375 69.390625 \nL 28.421875 72.90625 \nL 38.28125 72.90625 \nL 38.28125 8.296875 \nL 54.390625 8.296875 \nL 54.390625 0 \nL 12.40625 0 \nz\n\" id=\"DejaVuSans-49\"/>\n       <path d=\"M 31.78125 66.40625 \nQ 24.171875 66.40625 20.328125 58.90625 \nQ 16.5 51.421875 16.5 36.375 \nQ 16.5 21.390625 20.328125 13.890625 \nQ 24.171875 6.390625 31.78125 6.390625 \nQ 39.453125 6.390625 43.28125 13.890625 \nQ 47.125 21.390625 47.125 36.375 \nQ 47.125 51.421875 43.28125 58.90625 \nQ 39.453125 66.40625 31.78125 66.40625 \nz\nM 31.78125 74.21875 \nQ 44.046875 74.21875 50.515625 64.515625 \nQ 56.984375 54.828125 56.984375 36.375 \nQ 56.984375 17.96875 50.515625 8.265625 \nQ 44.046875 -1.421875 31.78125 -1.421875 \nQ 19.53125 -1.421875 13.0625 8.265625 \nQ 6.59375 17.96875 6.59375 36.375 \nQ 6.59375 54.828125 13.0625 64.515625 \nQ 19.53125 74.21875 31.78125 74.21875 \nz\n\" id=\"DejaVuSans-48\"/>\n      </defs>\n      <g transform=\"translate(70.112054 157.698438)scale(0.1 -0.1)\">\n       <use xlink:href=\"#DejaVuSans-49\"/>\n       <use x=\"63.623047\" xlink:href=\"#DejaVuSans-48\"/>\n      </g>\n     </g>\n    </g>\n    <g id=\"xtick_2\">\n     <g id=\"line2d_3\">\n      <path clip-path=\"url(#p51a5faee9b)\" d=\"M 116.331696 143.1 \nL 116.331696 7.2 \n\" style=\"fill:none;stroke:#b0b0b0;stroke-linecap:square;stroke-width:0.8;\"/>\n     </g>\n     <g id=\"line2d_4\">\n      <g>\n       <use style=\"stroke:#000000;stroke-width:0.8;\" x=\"116.331696\" xlink:href=\"#mc6a5d564b4\" y=\"143.1\"/>\n      </g>\n     </g>\n     <g id=\"text_2\">\n      <!-- 20 -->\n      <defs>\n       <path d=\"M 19.1875 8.296875 \nL 53.609375 8.296875 \nL 53.609375 0 \nL 7.328125 0 \nL 7.328125 8.296875 \nQ 12.9375 14.109375 22.625 23.890625 \nQ 32.328125 33.6875 34.8125 36.53125 \nQ 39.546875 41.84375 41.421875 45.53125 \nQ 43.3125 49.21875 43.3125 52.78125 \nQ 43.3125 58.59375 39.234375 62.25 \nQ 35.15625 65.921875 28.609375 65.921875 \nQ 23.96875 65.921875 18.8125 64.3125 \nQ 13.671875 62.703125 7.8125 59.421875 \nL 7.8125 69.390625 \nQ 13.765625 71.78125 18.9375 73 \nQ 24.125 74.21875 28.421875 74.21875 \nQ 39.75 74.21875 46.484375 68.546875 \nQ 53.21875 62.890625 53.21875 53.421875 \nQ 53.21875 48.921875 51.53125 44.890625 \nQ 49.859375 40.875 45.40625 35.40625 \nQ 44.1875 33.984375 37.640625 27.21875 \nQ 31.109375 20.453125 19.1875 8.296875 \nz\n\" id=\"DejaVuSans-50\"/>\n      </defs>\n      <g transform=\"translate(109.969196 157.698438)scale(0.1 -0.1)\">\n       <use xlink:href=\"#DejaVuSans-50\"/>\n       <use x=\"63.623047\" xlink:href=\"#DejaVuSans-48\"/>\n      </g>\n     </g>\n    </g>\n    <g id=\"xtick_3\">\n     <g id=\"line2d_5\">\n      <path clip-path=\"url(#p51a5faee9b)\" d=\"M 156.188839 143.1 \nL 156.188839 7.2 \n\" style=\"fill:none;stroke:#b0b0b0;stroke-linecap:square;stroke-width:0.8;\"/>\n     </g>\n     <g id=\"line2d_6\">\n      <g>\n       <use style=\"stroke:#000000;stroke-width:0.8;\" x=\"156.188839\" xlink:href=\"#mc6a5d564b4\" y=\"143.1\"/>\n      </g>\n     </g>\n     <g id=\"text_3\">\n      <!-- 30 -->\n      <defs>\n       <path d=\"M 40.578125 39.3125 \nQ 47.65625 37.796875 51.625 33 \nQ 55.609375 28.21875 55.609375 21.1875 \nQ 55.609375 10.40625 48.1875 4.484375 \nQ 40.765625 -1.421875 27.09375 -1.421875 \nQ 22.515625 -1.421875 17.65625 -0.515625 \nQ 12.796875 0.390625 7.625 2.203125 \nL 7.625 11.71875 \nQ 11.71875 9.328125 16.59375 8.109375 \nQ 21.484375 6.890625 26.8125 6.890625 \nQ 36.078125 6.890625 40.9375 10.546875 \nQ 45.796875 14.203125 45.796875 21.1875 \nQ 45.796875 27.640625 41.28125 31.265625 \nQ 36.765625 34.90625 28.71875 34.90625 \nL 20.21875 34.90625 \nL 20.21875 43.015625 \nL 29.109375 43.015625 \nQ 36.375 43.015625 40.234375 45.921875 \nQ 44.09375 48.828125 44.09375 54.296875 \nQ 44.09375 59.90625 40.109375 62.90625 \nQ 36.140625 65.921875 28.71875 65.921875 \nQ 24.65625 65.921875 20.015625 65.03125 \nQ 15.375 64.15625 9.8125 62.3125 \nL 9.8125 71.09375 \nQ 15.4375 72.65625 20.34375 73.4375 \nQ 25.25 74.21875 29.59375 74.21875 \nQ 40.828125 74.21875 47.359375 69.109375 \nQ 53.90625 64.015625 53.90625 55.328125 \nQ 53.90625 49.265625 50.4375 45.09375 \nQ 46.96875 40.921875 40.578125 39.3125 \nz\n\" id=\"DejaVuSans-51\"/>\n      </defs>\n      <g transform=\"translate(149.826339 157.698438)scale(0.1 -0.1)\">\n       <use xlink:href=\"#DejaVuSans-51\"/>\n       <use x=\"63.623047\" xlink:href=\"#DejaVuSans-48\"/>\n      </g>\n     </g>\n    </g>\n    <g id=\"xtick_4\">\n     <g id=\"line2d_7\">\n      <path clip-path=\"url(#p51a5faee9b)\" d=\"M 196.045982 143.1 \nL 196.045982 7.2 \n\" style=\"fill:none;stroke:#b0b0b0;stroke-linecap:square;stroke-width:0.8;\"/>\n     </g>\n     <g id=\"line2d_8\">\n      <g>\n       <use style=\"stroke:#000000;stroke-width:0.8;\" x=\"196.045982\" xlink:href=\"#mc6a5d564b4\" y=\"143.1\"/>\n      </g>\n     </g>\n     <g id=\"text_4\">\n      <!-- 40 -->\n      <defs>\n       <path d=\"M 37.796875 64.3125 \nL 12.890625 25.390625 \nL 37.796875 25.390625 \nz\nM 35.203125 72.90625 \nL 47.609375 72.90625 \nL 47.609375 25.390625 \nL 58.015625 25.390625 \nL 58.015625 17.1875 \nL 47.609375 17.1875 \nL 47.609375 0 \nL 37.796875 0 \nL 37.796875 17.1875 \nL 4.890625 17.1875 \nL 4.890625 26.703125 \nz\n\" id=\"DejaVuSans-52\"/>\n      </defs>\n      <g transform=\"translate(189.683482 157.698438)scale(0.1 -0.1)\">\n       <use xlink:href=\"#DejaVuSans-52\"/>\n       <use x=\"63.623047\" xlink:href=\"#DejaVuSans-48\"/>\n      </g>\n     </g>\n    </g>\n    <g id=\"xtick_5\">\n     <g id=\"line2d_9\">\n      <path clip-path=\"url(#p51a5faee9b)\" d=\"M 235.903125 143.1 \nL 235.903125 7.2 \n\" style=\"fill:none;stroke:#b0b0b0;stroke-linecap:square;stroke-width:0.8;\"/>\n     </g>\n     <g id=\"line2d_10\">\n      <g>\n       <use style=\"stroke:#000000;stroke-width:0.8;\" x=\"235.903125\" xlink:href=\"#mc6a5d564b4\" y=\"143.1\"/>\n      </g>\n     </g>\n     <g id=\"text_5\">\n      <!-- 50 -->\n      <defs>\n       <path d=\"M 10.796875 72.90625 \nL 49.515625 72.90625 \nL 49.515625 64.59375 \nL 19.828125 64.59375 \nL 19.828125 46.734375 \nQ 21.96875 47.46875 24.109375 47.828125 \nQ 26.265625 48.1875 28.421875 48.1875 \nQ 40.625 48.1875 47.75 41.5 \nQ 54.890625 34.8125 54.890625 23.390625 \nQ 54.890625 11.625 47.5625 5.09375 \nQ 40.234375 -1.421875 26.90625 -1.421875 \nQ 22.3125 -1.421875 17.546875 -0.640625 \nQ 12.796875 0.140625 7.71875 1.703125 \nL 7.71875 11.625 \nQ 12.109375 9.234375 16.796875 8.0625 \nQ 21.484375 6.890625 26.703125 6.890625 \nQ 35.15625 6.890625 40.078125 11.328125 \nQ 45.015625 15.765625 45.015625 23.390625 \nQ 45.015625 31 40.078125 35.4375 \nQ 35.15625 39.890625 26.703125 39.890625 \nQ 22.75 39.890625 18.8125 39.015625 \nQ 14.890625 38.140625 10.796875 36.28125 \nz\n\" id=\"DejaVuSans-53\"/>\n      </defs>\n      <g transform=\"translate(229.540625 157.698438)scale(0.1 -0.1)\">\n       <use xlink:href=\"#DejaVuSans-53\"/>\n       <use x=\"63.623047\" xlink:href=\"#DejaVuSans-48\"/>\n      </g>\n     </g>\n    </g>\n    <g id=\"text_6\">\n     <!-- step -->\n     <defs>\n      <path d=\"M 44.28125 53.078125 \nL 44.28125 44.578125 \nQ 40.484375 46.53125 36.375 47.5 \nQ 32.28125 48.484375 27.875 48.484375 \nQ 21.1875 48.484375 17.84375 46.4375 \nQ 14.5 44.390625 14.5 40.28125 \nQ 14.5 37.15625 16.890625 35.375 \nQ 19.28125 33.59375 26.515625 31.984375 \nL 29.59375 31.296875 \nQ 39.15625 29.25 43.1875 25.515625 \nQ 47.21875 21.78125 47.21875 15.09375 \nQ 47.21875 7.46875 41.1875 3.015625 \nQ 35.15625 -1.421875 24.609375 -1.421875 \nQ 20.21875 -1.421875 15.453125 -0.5625 \nQ 10.6875 0.296875 5.421875 2 \nL 5.421875 11.28125 \nQ 10.40625 8.6875 15.234375 7.390625 \nQ 20.0625 6.109375 24.8125 6.109375 \nQ 31.15625 6.109375 34.5625 8.28125 \nQ 37.984375 10.453125 37.984375 14.40625 \nQ 37.984375 18.0625 35.515625 20.015625 \nQ 33.0625 21.96875 24.703125 23.78125 \nL 21.578125 24.515625 \nQ 13.234375 26.265625 9.515625 29.90625 \nQ 5.8125 33.546875 5.8125 39.890625 \nQ 5.8125 47.609375 11.28125 51.796875 \nQ 16.75 56 26.8125 56 \nQ 31.78125 56 36.171875 55.265625 \nQ 40.578125 54.546875 44.28125 53.078125 \nz\n\" id=\"DejaVuSans-115\"/>\n      <path d=\"M 18.3125 70.21875 \nL 18.3125 54.6875 \nL 36.8125 54.6875 \nL 36.8125 47.703125 \nL 18.3125 47.703125 \nL 18.3125 18.015625 \nQ 18.3125 11.328125 20.140625 9.421875 \nQ 21.96875 7.515625 27.59375 7.515625 \nL 36.8125 7.515625 \nL 36.8125 0 \nL 27.59375 0 \nQ 17.1875 0 13.234375 3.875 \nQ 9.28125 7.765625 9.28125 18.015625 \nL 9.28125 47.703125 \nL 2.6875 47.703125 \nL 2.6875 54.6875 \nL 9.28125 54.6875 \nL 9.28125 70.21875 \nz\n\" id=\"DejaVuSans-116\"/>\n      <path d=\"M 56.203125 29.59375 \nL 56.203125 25.203125 \nL 14.890625 25.203125 \nQ 15.484375 15.921875 20.484375 11.0625 \nQ 25.484375 6.203125 34.421875 6.203125 \nQ 39.59375 6.203125 44.453125 7.46875 \nQ 49.3125 8.734375 54.109375 11.28125 \nL 54.109375 2.78125 \nQ 49.265625 0.734375 44.1875 -0.34375 \nQ 39.109375 -1.421875 33.890625 -1.421875 \nQ 20.796875 -1.421875 13.15625 6.1875 \nQ 5.515625 13.8125 5.515625 26.8125 \nQ 5.515625 40.234375 12.765625 48.109375 \nQ 20.015625 56 32.328125 56 \nQ 43.359375 56 49.78125 48.890625 \nQ 56.203125 41.796875 56.203125 29.59375 \nz\nM 47.21875 32.234375 \nQ 47.125 39.59375 43.09375 43.984375 \nQ 39.0625 48.390625 32.421875 48.390625 \nQ 24.90625 48.390625 20.390625 44.140625 \nQ 15.875 39.890625 15.1875 32.171875 \nz\n\" id=\"DejaVuSans-101\"/>\n      <path d=\"M 18.109375 8.203125 \nL 18.109375 -20.796875 \nL 9.078125 -20.796875 \nL 9.078125 54.6875 \nL 18.109375 54.6875 \nL 18.109375 46.390625 \nQ 20.953125 51.265625 25.265625 53.625 \nQ 29.59375 56 35.59375 56 \nQ 45.5625 56 51.78125 48.09375 \nQ 58.015625 40.1875 58.015625 27.296875 \nQ 58.015625 14.40625 51.78125 6.484375 \nQ 45.5625 -1.421875 35.59375 -1.421875 \nQ 29.59375 -1.421875 25.265625 0.953125 \nQ 20.953125 3.328125 18.109375 8.203125 \nz\nM 48.6875 27.296875 \nQ 48.6875 37.203125 44.609375 42.84375 \nQ 40.53125 48.484375 33.40625 48.484375 \nQ 26.265625 48.484375 22.1875 42.84375 \nQ 18.109375 37.203125 18.109375 27.296875 \nQ 18.109375 17.390625 22.1875 11.75 \nQ 26.265625 6.109375 33.40625 6.109375 \nQ 40.53125 6.109375 44.609375 11.75 \nQ 48.6875 17.390625 48.6875 27.296875 \nz\n\" id=\"DejaVuSans-112\"/>\n     </defs>\n     <g transform=\"translate(127.4375 171.376563)scale(0.1 -0.1)\">\n      <use xlink:href=\"#DejaVuSans-115\"/>\n      <use x=\"52.099609\" xlink:href=\"#DejaVuSans-116\"/>\n      <use x=\"91.308594\" xlink:href=\"#DejaVuSans-101\"/>\n      <use x=\"152.832031\" xlink:href=\"#DejaVuSans-112\"/>\n     </g>\n    </g>\n   </g>\n   <g id=\"matplotlib.axis_2\">\n    <g id=\"ytick_1\">\n     <g id=\"line2d_11\">\n      <path clip-path=\"url(#p51a5faee9b)\" d=\"M 40.603125 119.41671 \nL 235.903125 119.41671 \n\" style=\"fill:none;stroke:#b0b0b0;stroke-linecap:square;stroke-width:0.8;\"/>\n     </g>\n     <g id=\"line2d_12\">\n      <defs>\n       <path d=\"M 0 0 \nL -3.5 0 \n\" id=\"md06fb8c51c\" style=\"stroke:#000000;stroke-width:0.8;\"/>\n      </defs>\n      <g>\n       <use style=\"stroke:#000000;stroke-width:0.8;\" x=\"40.603125\" xlink:href=\"#md06fb8c51c\" y=\"119.41671\"/>\n      </g>\n     </g>\n     <g id=\"text_7\">\n      <!-- 2 -->\n      <g transform=\"translate(27.240625 123.215929)scale(0.1 -0.1)\">\n       <use xlink:href=\"#DejaVuSans-50\"/>\n      </g>\n     </g>\n    </g>\n    <g id=\"ytick_2\">\n     <g id=\"line2d_13\">\n      <path clip-path=\"url(#p51a5faee9b)\" d=\"M 40.603125 92.574564 \nL 235.903125 92.574564 \n\" style=\"fill:none;stroke:#b0b0b0;stroke-linecap:square;stroke-width:0.8;\"/>\n     </g>\n     <g id=\"line2d_14\">\n      <g>\n       <use style=\"stroke:#000000;stroke-width:0.8;\" x=\"40.603125\" xlink:href=\"#md06fb8c51c\" y=\"92.574564\"/>\n      </g>\n     </g>\n     <g id=\"text_8\">\n      <!-- 4 -->\n      <g transform=\"translate(27.240625 96.373783)scale(0.1 -0.1)\">\n       <use xlink:href=\"#DejaVuSans-52\"/>\n      </g>\n     </g>\n    </g>\n    <g id=\"ytick_3\">\n     <g id=\"line2d_15\">\n      <path clip-path=\"url(#p51a5faee9b)\" d=\"M 40.603125 65.732418 \nL 235.903125 65.732418 \n\" style=\"fill:none;stroke:#b0b0b0;stroke-linecap:square;stroke-width:0.8;\"/>\n     </g>\n     <g id=\"line2d_16\">\n      <g>\n       <use style=\"stroke:#000000;stroke-width:0.8;\" x=\"40.603125\" xlink:href=\"#md06fb8c51c\" y=\"65.732418\"/>\n      </g>\n     </g>\n     <g id=\"text_9\">\n      <!-- 6 -->\n      <defs>\n       <path d=\"M 33.015625 40.375 \nQ 26.375 40.375 22.484375 35.828125 \nQ 18.609375 31.296875 18.609375 23.390625 \nQ 18.609375 15.53125 22.484375 10.953125 \nQ 26.375 6.390625 33.015625 6.390625 \nQ 39.65625 6.390625 43.53125 10.953125 \nQ 47.40625 15.53125 47.40625 23.390625 \nQ 47.40625 31.296875 43.53125 35.828125 \nQ 39.65625 40.375 33.015625 40.375 \nz\nM 52.59375 71.296875 \nL 52.59375 62.3125 \nQ 48.875 64.0625 45.09375 64.984375 \nQ 41.3125 65.921875 37.59375 65.921875 \nQ 27.828125 65.921875 22.671875 59.328125 \nQ 17.53125 52.734375 16.796875 39.40625 \nQ 19.671875 43.65625 24.015625 45.921875 \nQ 28.375 48.1875 33.59375 48.1875 \nQ 44.578125 48.1875 50.953125 41.515625 \nQ 57.328125 34.859375 57.328125 23.390625 \nQ 57.328125 12.15625 50.6875 5.359375 \nQ 44.046875 -1.421875 33.015625 -1.421875 \nQ 20.359375 -1.421875 13.671875 8.265625 \nQ 6.984375 17.96875 6.984375 36.375 \nQ 6.984375 53.65625 15.1875 63.9375 \nQ 23.390625 74.21875 37.203125 74.21875 \nQ 40.921875 74.21875 44.703125 73.484375 \nQ 48.484375 72.75 52.59375 71.296875 \nz\n\" id=\"DejaVuSans-54\"/>\n      </defs>\n      <g transform=\"translate(27.240625 69.531637)scale(0.1 -0.1)\">\n       <use xlink:href=\"#DejaVuSans-54\"/>\n      </g>\n     </g>\n    </g>\n    <g id=\"ytick_4\">\n     <g id=\"line2d_17\">\n      <path clip-path=\"url(#p51a5faee9b)\" d=\"M 40.603125 38.890272 \nL 235.903125 38.890272 \n\" style=\"fill:none;stroke:#b0b0b0;stroke-linecap:square;stroke-width:0.8;\"/>\n     </g>\n     <g id=\"line2d_18\">\n      <g>\n       <use style=\"stroke:#000000;stroke-width:0.8;\" x=\"40.603125\" xlink:href=\"#md06fb8c51c\" y=\"38.890272\"/>\n      </g>\n     </g>\n     <g id=\"text_10\">\n      <!-- 8 -->\n      <defs>\n       <path d=\"M 31.78125 34.625 \nQ 24.75 34.625 20.71875 30.859375 \nQ 16.703125 27.09375 16.703125 20.515625 \nQ 16.703125 13.921875 20.71875 10.15625 \nQ 24.75 6.390625 31.78125 6.390625 \nQ 38.8125 6.390625 42.859375 10.171875 \nQ 46.921875 13.96875 46.921875 20.515625 \nQ 46.921875 27.09375 42.890625 30.859375 \nQ 38.875 34.625 31.78125 34.625 \nz\nM 21.921875 38.8125 \nQ 15.578125 40.375 12.03125 44.71875 \nQ 8.5 49.078125 8.5 55.328125 \nQ 8.5 64.0625 14.71875 69.140625 \nQ 20.953125 74.21875 31.78125 74.21875 \nQ 42.671875 74.21875 48.875 69.140625 \nQ 55.078125 64.0625 55.078125 55.328125 \nQ 55.078125 49.078125 51.53125 44.71875 \nQ 48 40.375 41.703125 38.8125 \nQ 48.828125 37.15625 52.796875 32.3125 \nQ 56.78125 27.484375 56.78125 20.515625 \nQ 56.78125 9.90625 50.3125 4.234375 \nQ 43.84375 -1.421875 31.78125 -1.421875 \nQ 19.734375 -1.421875 13.25 4.234375 \nQ 6.78125 9.90625 6.78125 20.515625 \nQ 6.78125 27.484375 10.78125 32.3125 \nQ 14.796875 37.15625 21.921875 38.8125 \nz\nM 18.3125 54.390625 \nQ 18.3125 48.734375 21.84375 45.5625 \nQ 25.390625 42.390625 31.78125 42.390625 \nQ 38.140625 42.390625 41.71875 45.5625 \nQ 45.3125 48.734375 45.3125 54.390625 \nQ 45.3125 60.0625 41.71875 63.234375 \nQ 38.140625 66.40625 31.78125 66.40625 \nQ 25.390625 66.40625 21.84375 63.234375 \nQ 18.3125 60.0625 18.3125 54.390625 \nz\n\" id=\"DejaVuSans-56\"/>\n      </defs>\n      <g transform=\"translate(27.240625 42.689491)scale(0.1 -0.1)\">\n       <use xlink:href=\"#DejaVuSans-56\"/>\n      </g>\n     </g>\n    </g>\n    <g id=\"ytick_5\">\n     <g id=\"line2d_19\">\n      <path clip-path=\"url(#p51a5faee9b)\" d=\"M 40.603125 12.048126 \nL 235.903125 12.048126 \n\" style=\"fill:none;stroke:#b0b0b0;stroke-linecap:square;stroke-width:0.8;\"/>\n     </g>\n     <g id=\"line2d_20\">\n      <g>\n       <use style=\"stroke:#000000;stroke-width:0.8;\" x=\"40.603125\" xlink:href=\"#md06fb8c51c\" y=\"12.048126\"/>\n      </g>\n     </g>\n     <g id=\"text_11\">\n      <!-- 10 -->\n      <g transform=\"translate(20.878125 15.847345)scale(0.1 -0.1)\">\n       <use xlink:href=\"#DejaVuSans-49\"/>\n       <use x=\"63.623047\" xlink:href=\"#DejaVuSans-48\"/>\n      </g>\n     </g>\n    </g>\n    <g id=\"text_12\">\n     <!-- loss -->\n     <defs>\n      <path d=\"M 9.421875 75.984375 \nL 18.40625 75.984375 \nL 18.40625 0 \nL 9.421875 0 \nz\n\" id=\"DejaVuSans-108\"/>\n      <path d=\"M 30.609375 48.390625 \nQ 23.390625 48.390625 19.1875 42.75 \nQ 14.984375 37.109375 14.984375 27.296875 \nQ 14.984375 17.484375 19.15625 11.84375 \nQ 23.34375 6.203125 30.609375 6.203125 \nQ 37.796875 6.203125 41.984375 11.859375 \nQ 46.1875 17.53125 46.1875 27.296875 \nQ 46.1875 37.015625 41.984375 42.703125 \nQ 37.796875 48.390625 30.609375 48.390625 \nz\nM 30.609375 56 \nQ 42.328125 56 49.015625 48.375 \nQ 55.71875 40.765625 55.71875 27.296875 \nQ 55.71875 13.875 49.015625 6.21875 \nQ 42.328125 -1.421875 30.609375 -1.421875 \nQ 18.84375 -1.421875 12.171875 6.21875 \nQ 5.515625 13.875 5.515625 27.296875 \nQ 5.515625 40.765625 12.171875 48.375 \nQ 18.84375 56 30.609375 56 \nz\n\" id=\"DejaVuSans-111\"/>\n     </defs>\n     <g transform=\"translate(14.798437 84.807812)rotate(-90)scale(0.1 -0.1)\">\n      <use xlink:href=\"#DejaVuSans-108\"/>\n      <use x=\"27.783203\" xlink:href=\"#DejaVuSans-111\"/>\n      <use x=\"88.964844\" xlink:href=\"#DejaVuSans-115\"/>\n      <use x=\"141.064453\" xlink:href=\"#DejaVuSans-115\"/>\n     </g>\n    </g>\n   </g>\n   <g id=\"line2d_21\">\n    <path clip-path=\"url(#p51a5faee9b)\" d=\"M 40.603125 13.377273 \nL 44.588839 18.791358 \nL 48.574554 22.152768 \nL 52.560268 24.674556 \nL 56.545982 26.763701 \nL 60.531696 28.509241 \nL 64.517411 30.164424 \nL 68.503125 31.561153 \nL 72.488839 32.873805 \nL 76.474554 34.249902 \nL 80.460268 35.500947 \nL 84.445982 36.710925 \nL 88.431696 37.936783 \nL 92.417411 39.168705 \nL 96.403125 40.281629 \nL 100.388839 41.404085 \nL 104.374554 42.484552 \nL 108.360268 43.449567 \nL 112.345982 44.458175 \nL 116.331696 45.435659 \nL 120.317411 46.427054 \nL 124.303125 47.381726 \nL 128.288839 48.356701 \nL 132.274554 49.269249 \nL 136.260268 50.116922 \nL 140.245982 50.989607 \nL 144.231696 51.837055 \nL 148.217411 52.648676 \nL 152.203125 53.410625 \nL 156.188839 54.223088 \nL 160.174554 54.979658 \nL 164.160268 55.699821 \nL 168.145982 56.378857 \nL 172.131696 57.013203 \nL 176.117411 57.649285 \nL 180.103125 58.210876 \nL 184.088839 58.810948 \nL 188.074554 59.356296 \nL 192.060268 59.889944 \nL 196.045982 60.428165 \nL 200.031696 60.944241 \nL 204.017411 61.406786 \nL 208.003125 61.844051 \nL 211.988839 62.264606 \nL 215.974554 62.690226 \nL 219.960268 63.087813 \nL 223.945982 63.4685 \nL 227.931696 63.856137 \nL 231.917411 64.223894 \nL 235.903125 64.519303 \n\" style=\"fill:none;stroke:#1f77b4;stroke-linecap:square;stroke-width:1.5;\"/>\n   </g>\n   <g id=\"line2d_22\">\n    <path clip-path=\"url(#p51a5faee9b)\" d=\"M 40.603125 136.901249 \nL 44.588839 136.892641 \nL 48.574554 136.89996 \nL 52.560268 136.845201 \nL 56.545982 136.8708 \nL 60.531696 136.868791 \nL 64.517411 136.877761 \nL 68.503125 136.884618 \nL 72.488839 136.888981 \nL 76.474554 136.895162 \nL 80.460268 136.898076 \nL 84.445982 136.902939 \nL 88.431696 136.904247 \nL 92.417411 136.906056 \nL 96.403125 136.90945 \nL 100.388839 136.906502 \nL 104.374554 136.907184 \nL 108.360268 136.907854 \nL 112.345982 136.91358 \nL 116.331696 136.91121 \nL 120.317411 136.912209 \nL 124.303125 136.91307 \nL 128.288839 136.914433 \nL 132.274554 136.912301 \nL 136.260268 136.913628 \nL 140.245982 136.912296 \nL 144.231696 136.911339 \nL 148.217411 136.914443 \nL 152.203125 136.917556 \nL 156.188839 136.918881 \nL 160.174554 136.917779 \nL 164.160268 136.920659 \nL 168.145982 136.918476 \nL 172.131696 136.917902 \nL 176.117411 136.918843 \nL 180.103125 136.919333 \nL 184.088839 136.919305 \nL 188.074554 136.920761 \nL 192.060268 136.920759 \nL 196.045982 136.921932 \nL 200.031696 136.922655 \nL 204.017411 136.922727 \nL 208.003125 136.921586 \nL 211.988839 136.920474 \nL 215.974554 136.922577 \nL 219.960268 136.920615 \nL 223.945982 136.918427 \nL 227.931696 136.914895 \nL 231.917411 136.914541 \nL 235.903125 136.91482 \n\" style=\"fill:none;stroke:#bf00bf;stroke-dasharray:5.55,2.4;stroke-dashoffset:0;stroke-width:1.5;\"/>\n   </g>\n   <g id=\"patch_3\">\n    <path d=\"M 40.603125 143.1 \nL 40.603125 7.2 \n\" style=\"fill:none;stroke:#000000;stroke-linecap:square;stroke-linejoin:miter;stroke-width:0.8;\"/>\n   </g>\n   <g id=\"patch_4\">\n    <path d=\"M 235.903125 143.1 \nL 235.903125 7.2 \n\" style=\"fill:none;stroke:#000000;stroke-linecap:square;stroke-linejoin:miter;stroke-width:0.8;\"/>\n   </g>\n   <g id=\"patch_5\">\n    <path d=\"M 40.603125 143.1 \nL 235.903125 143.1 \n\" style=\"fill:none;stroke:#000000;stroke-linecap:square;stroke-linejoin:miter;stroke-width:0.8;\"/>\n   </g>\n   <g id=\"patch_6\">\n    <path d=\"M 40.603125 7.2 \nL 235.903125 7.2 \n\" style=\"fill:none;stroke:#000000;stroke-linecap:square;stroke-linejoin:miter;stroke-width:0.8;\"/>\n   </g>\n   <g id=\"legend_1\">\n    <g id=\"patch_7\">\n     <path d=\"M 174.64375 44.55625 \nL 228.903125 44.55625 \nQ 230.903125 44.55625 230.903125 42.55625 \nL 230.903125 14.2 \nQ 230.903125 12.2 228.903125 12.2 \nL 174.64375 12.2 \nQ 172.64375 12.2 172.64375 14.2 \nL 172.64375 42.55625 \nQ 172.64375 44.55625 174.64375 44.55625 \nz\n\" style=\"fill:#ffffff;opacity:0.8;stroke:#cccccc;stroke-linejoin:miter;\"/>\n    </g>\n    <g id=\"line2d_23\">\n     <path d=\"M 176.64375 20.298437 \nL 196.64375 20.298437 \n\" style=\"fill:none;stroke:#1f77b4;stroke-linecap:square;stroke-width:1.5;\"/>\n    </g>\n    <g id=\"line2d_24\"/>\n    <g id=\"text_13\">\n     <!-- mlm -->\n     <defs>\n      <path d=\"M 52 44.1875 \nQ 55.375 50.25 60.0625 53.125 \nQ 64.75 56 71.09375 56 \nQ 79.640625 56 84.28125 50.015625 \nQ 88.921875 44.046875 88.921875 33.015625 \nL 88.921875 0 \nL 79.890625 0 \nL 79.890625 32.71875 \nQ 79.890625 40.578125 77.09375 44.375 \nQ 74.3125 48.1875 68.609375 48.1875 \nQ 61.625 48.1875 57.5625 43.546875 \nQ 53.515625 38.921875 53.515625 30.90625 \nL 53.515625 0 \nL 44.484375 0 \nL 44.484375 32.71875 \nQ 44.484375 40.625 41.703125 44.40625 \nQ 38.921875 48.1875 33.109375 48.1875 \nQ 26.21875 48.1875 22.15625 43.53125 \nQ 18.109375 38.875 18.109375 30.90625 \nL 18.109375 0 \nL 9.078125 0 \nL 9.078125 54.6875 \nL 18.109375 54.6875 \nL 18.109375 46.1875 \nQ 21.1875 51.21875 25.484375 53.609375 \nQ 29.78125 56 35.6875 56 \nQ 41.65625 56 45.828125 52.96875 \nQ 50 49.953125 52 44.1875 \nz\n\" id=\"DejaVuSans-109\"/>\n     </defs>\n     <g transform=\"translate(204.64375 23.798437)scale(0.1 -0.1)\">\n      <use xlink:href=\"#DejaVuSans-109\"/>\n      <use x=\"97.412109\" xlink:href=\"#DejaVuSans-108\"/>\n      <use x=\"125.195312\" xlink:href=\"#DejaVuSans-109\"/>\n     </g>\n    </g>\n    <g id=\"line2d_25\">\n     <path d=\"M 176.64375 34.976562 \nL 196.64375 34.976562 \n\" style=\"fill:none;stroke:#bf00bf;stroke-dasharray:5.55,2.4;stroke-dashoffset:0;stroke-width:1.5;\"/>\n    </g>\n    <g id=\"line2d_26\"/>\n    <g id=\"text_14\">\n     <!-- nsp -->\n     <defs>\n      <path d=\"M 54.890625 33.015625 \nL 54.890625 0 \nL 45.90625 0 \nL 45.90625 32.71875 \nQ 45.90625 40.484375 42.875 44.328125 \nQ 39.84375 48.1875 33.796875 48.1875 \nQ 26.515625 48.1875 22.3125 43.546875 \nQ 18.109375 38.921875 18.109375 30.90625 \nL 18.109375 0 \nL 9.078125 0 \nL 9.078125 54.6875 \nL 18.109375 54.6875 \nL 18.109375 46.1875 \nQ 21.34375 51.125 25.703125 53.5625 \nQ 30.078125 56 35.796875 56 \nQ 45.21875 56 50.046875 50.171875 \nQ 54.890625 44.34375 54.890625 33.015625 \nz\n\" id=\"DejaVuSans-110\"/>\n     </defs>\n     <g transform=\"translate(204.64375 38.476562)scale(0.1 -0.1)\">\n      <use xlink:href=\"#DejaVuSans-110\"/>\n      <use x=\"63.378906\" xlink:href=\"#DejaVuSans-115\"/>\n      <use x=\"115.478516\" xlink:href=\"#DejaVuSans-112\"/>\n     </g>\n    </g>\n   </g>\n  </g>\n </g>\n <defs>\n  <clipPath id=\"p51a5faee9b\">\n   <rect height=\"135.9\" width=\"195.3\" x=\"40.603125\" y=\"7.2\"/>\n  </clipPath>\n </defs>\n</svg>\n"
          },
          "metadata": {
            "tags": [],
            "needs_background": "light"
          }
        }
      ]
    },
    {
      "cell_type": "markdown",
      "metadata": {
        "id": "QWaRkNTe_AO9"
      },
      "source": [
        "### Representing Text with BERT\r\n",
        "\r\n",
        "Apos pretreinar BERT, podemos usar pretraining BERT para representar um texto único, um par de texto ou qualquer token neles. A função a seguir retorna a representação do modelo BERT para todos os tokens no *tokens_a* e *tokens_b*"
      ]
    },
    {
      "cell_type": "code",
      "metadata": {
        "id": "kfbUdCHkvq00"
      },
      "source": [
        "def get_bert_encoding(net, tokens_a, tokens_b = None):\r\n",
        "  tokens, segments = d2l.get_tokens_and_segments(tokens_a, tokens_b)\r\n",
        "  token_ids = torch.tensor(vocab[tokens], device = devices[0]).unsqueeze(0)\r\n",
        "  segments = torch.tensor(segments, device=devices[0]).unsqueeze(0)\r\n",
        "  valid_len = torch.tensor(len(tokens), device=devices[0]).unsqueeze(0)\r\n",
        "  encoded_X, _, _ = net(token_ids, segments, valid_len)\r\n",
        "  return encoded_X"
      ],
      "execution_count": 36,
      "outputs": []
    },
    {
      "cell_type": "markdown",
      "metadata": {
        "id": "3uqpu8m3xJ_K"
      },
      "source": [
        "Depois de inserir tokens especiais “< cls >” (usados para classificação) e “< sep >” (usados para separação), a sequência de entrada de BERT tem um comprimento de seis. Como zero é o índice do token “< cls >”, encoded_text [:, 0,:] é a representação BERT de toda a frase de entrada. Para avaliar o token polissêmico “crane”, também imprimimos os três primeiros elementos da representação BERT do token."
      ]
    },
    {
      "cell_type": "code",
      "metadata": {
        "colab": {
          "base_uri": "https://localhost:8080/"
        },
        "id": "vlmeX15Fw0V7",
        "outputId": "c1f04720-a725-43a0-dd41-29418b955bf5"
      },
      "source": [
        "tokens_a = ['a', 'crane', 'is', 'flying']\r\n",
        "encoded_text = get_bert_encoding(net, tokens_a)\r\n",
        "encoded_text_cls = encoded_text[:, 0, :]\r\n",
        "encoded_text_crane = encoded_text[:, 2, :]\r\n",
        "encoded_text.shape, encoded_text_cls[0][:3], encoded_text_crane[0][:3]"
      ],
      "execution_count": 37,
      "outputs": [
        {
          "output_type": "execute_result",
          "data": {
            "text/plain": [
              "(torch.Size([1, 6, 128]),\n",
              " tensor([-0.5877, -0.9931,  1.5063], device='cuda:0', grad_fn=<SliceBackward>),\n",
              " tensor([-0.3299, -1.7970,  1.4374], device='cuda:0', grad_fn=<SliceBackward>))"
            ]
          },
          "metadata": {
            "tags": []
          },
          "execution_count": 37
        }
      ]
    },
    {
      "cell_type": "markdown",
      "metadata": {
        "id": "2fImROX9x05a"
      },
      "source": [
        "Agora vamos considerar um par de sentenças \" a crane driver came\" e \"he just left\". Note que para os 3 primeiros elementos, a palavra \"crane\" mudou seu valor, isso ocorreu porque a palavra foi inserida em um contexto diferente ( o significado dela esta diferente como por exemplo na palavra banco \"banco para tirar dinheiro e banco para sentar\"). Enquanto que o token especial de classificação representa o mesmo valor vetorizado"
      ]
    },
    {
      "cell_type": "code",
      "metadata": {
        "colab": {
          "base_uri": "https://localhost:8080/"
        },
        "id": "A0TlDuChx0Jb",
        "outputId": "a738f8ab-0b3a-4a0d-b5c4-4dbd9cc04ded"
      },
      "source": [
        "tokens_a, tokens_b = ['a', 'crane', 'driver', 'came'], ['he', 'just', 'left']\r\n",
        "encoded_pair = get_bert_encoding(net, tokens_a, tokens_b)\r\n",
        "# Tokens: '<cls>', 'a', 'crane', 'driver', 'came', '<sep>', 'he', 'just',\r\n",
        "# 'left', '<sep>'\r\n",
        "encoded_pair_cls = encoded_pair[:, 0, :]\r\n",
        "encoded_pair_crane = encoded_pair[:, 2, :]\r\n",
        "encoded_pair.shape, encoded_text_cls[0][:3], encoded_pair_crane[0][:3]"
      ],
      "execution_count": 38,
      "outputs": [
        {
          "output_type": "execute_result",
          "data": {
            "text/plain": [
              "(torch.Size([1, 10, 128]),\n",
              " tensor([-0.5877, -0.9931,  1.5063], device='cuda:0', grad_fn=<SliceBackward>),\n",
              " tensor([-0.2478, -2.2473,  2.0437], device='cuda:0', grad_fn=<SliceBackward>))"
            ]
          },
          "metadata": {
            "tags": []
          },
          "execution_count": 38
        }
      ]
    }
  ]
}